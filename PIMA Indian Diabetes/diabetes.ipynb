{
 "cells": [
  {
   "cell_type": "code",
   "execution_count": 1,
   "metadata": {},
   "outputs": [],
   "source": [
    "#Importing libraries\n",
    "import numpy as np\n",
    "import pandas as pd\n",
    "import matplotlib.pyplot as plt\n",
    "import seaborn as sns"
   ]
  },
  {
   "cell_type": "code",
   "execution_count": 2,
   "metadata": {},
   "outputs": [
    {
     "data": {
      "text/html": [
       "<div>\n",
       "<style scoped>\n",
       "    .dataframe tbody tr th:only-of-type {\n",
       "        vertical-align: middle;\n",
       "    }\n",
       "\n",
       "    .dataframe tbody tr th {\n",
       "        vertical-align: top;\n",
       "    }\n",
       "\n",
       "    .dataframe thead th {\n",
       "        text-align: right;\n",
       "    }\n",
       "</style>\n",
       "<table border=\"1\" class=\"dataframe\">\n",
       "  <thead>\n",
       "    <tr style=\"text-align: right;\">\n",
       "      <th></th>\n",
       "      <th>Pregnancies</th>\n",
       "      <th>Glucose</th>\n",
       "      <th>BloodPressure</th>\n",
       "      <th>SkinThickness</th>\n",
       "      <th>Insulin</th>\n",
       "      <th>BMI</th>\n",
       "      <th>DiabetesPedigreeFunction</th>\n",
       "      <th>Age</th>\n",
       "      <th>Outcome</th>\n",
       "    </tr>\n",
       "  </thead>\n",
       "  <tbody>\n",
       "    <tr>\n",
       "      <th>0</th>\n",
       "      <td>6</td>\n",
       "      <td>148</td>\n",
       "      <td>72</td>\n",
       "      <td>35</td>\n",
       "      <td>0</td>\n",
       "      <td>33.6</td>\n",
       "      <td>0.627</td>\n",
       "      <td>50</td>\n",
       "      <td>1</td>\n",
       "    </tr>\n",
       "    <tr>\n",
       "      <th>1</th>\n",
       "      <td>1</td>\n",
       "      <td>85</td>\n",
       "      <td>66</td>\n",
       "      <td>29</td>\n",
       "      <td>0</td>\n",
       "      <td>26.6</td>\n",
       "      <td>0.351</td>\n",
       "      <td>31</td>\n",
       "      <td>0</td>\n",
       "    </tr>\n",
       "    <tr>\n",
       "      <th>2</th>\n",
       "      <td>8</td>\n",
       "      <td>183</td>\n",
       "      <td>64</td>\n",
       "      <td>0</td>\n",
       "      <td>0</td>\n",
       "      <td>23.3</td>\n",
       "      <td>0.672</td>\n",
       "      <td>32</td>\n",
       "      <td>1</td>\n",
       "    </tr>\n",
       "    <tr>\n",
       "      <th>3</th>\n",
       "      <td>1</td>\n",
       "      <td>89</td>\n",
       "      <td>66</td>\n",
       "      <td>23</td>\n",
       "      <td>94</td>\n",
       "      <td>28.1</td>\n",
       "      <td>0.167</td>\n",
       "      <td>21</td>\n",
       "      <td>0</td>\n",
       "    </tr>\n",
       "    <tr>\n",
       "      <th>4</th>\n",
       "      <td>0</td>\n",
       "      <td>137</td>\n",
       "      <td>40</td>\n",
       "      <td>35</td>\n",
       "      <td>168</td>\n",
       "      <td>43.1</td>\n",
       "      <td>2.288</td>\n",
       "      <td>33</td>\n",
       "      <td>1</td>\n",
       "    </tr>\n",
       "    <tr>\n",
       "      <th>5</th>\n",
       "      <td>5</td>\n",
       "      <td>116</td>\n",
       "      <td>74</td>\n",
       "      <td>0</td>\n",
       "      <td>0</td>\n",
       "      <td>25.6</td>\n",
       "      <td>0.201</td>\n",
       "      <td>30</td>\n",
       "      <td>0</td>\n",
       "    </tr>\n",
       "    <tr>\n",
       "      <th>6</th>\n",
       "      <td>3</td>\n",
       "      <td>78</td>\n",
       "      <td>50</td>\n",
       "      <td>32</td>\n",
       "      <td>88</td>\n",
       "      <td>31.0</td>\n",
       "      <td>0.248</td>\n",
       "      <td>26</td>\n",
       "      <td>1</td>\n",
       "    </tr>\n",
       "    <tr>\n",
       "      <th>7</th>\n",
       "      <td>10</td>\n",
       "      <td>115</td>\n",
       "      <td>0</td>\n",
       "      <td>0</td>\n",
       "      <td>0</td>\n",
       "      <td>35.3</td>\n",
       "      <td>0.134</td>\n",
       "      <td>29</td>\n",
       "      <td>0</td>\n",
       "    </tr>\n",
       "    <tr>\n",
       "      <th>8</th>\n",
       "      <td>2</td>\n",
       "      <td>197</td>\n",
       "      <td>70</td>\n",
       "      <td>45</td>\n",
       "      <td>543</td>\n",
       "      <td>30.5</td>\n",
       "      <td>0.158</td>\n",
       "      <td>53</td>\n",
       "      <td>1</td>\n",
       "    </tr>\n",
       "    <tr>\n",
       "      <th>9</th>\n",
       "      <td>8</td>\n",
       "      <td>125</td>\n",
       "      <td>96</td>\n",
       "      <td>0</td>\n",
       "      <td>0</td>\n",
       "      <td>0.0</td>\n",
       "      <td>0.232</td>\n",
       "      <td>54</td>\n",
       "      <td>1</td>\n",
       "    </tr>\n",
       "    <tr>\n",
       "      <th>10</th>\n",
       "      <td>4</td>\n",
       "      <td>110</td>\n",
       "      <td>92</td>\n",
       "      <td>0</td>\n",
       "      <td>0</td>\n",
       "      <td>37.6</td>\n",
       "      <td>0.191</td>\n",
       "      <td>30</td>\n",
       "      <td>0</td>\n",
       "    </tr>\n",
       "    <tr>\n",
       "      <th>11</th>\n",
       "      <td>10</td>\n",
       "      <td>168</td>\n",
       "      <td>74</td>\n",
       "      <td>0</td>\n",
       "      <td>0</td>\n",
       "      <td>38.0</td>\n",
       "      <td>0.537</td>\n",
       "      <td>34</td>\n",
       "      <td>1</td>\n",
       "    </tr>\n",
       "    <tr>\n",
       "      <th>12</th>\n",
       "      <td>10</td>\n",
       "      <td>139</td>\n",
       "      <td>80</td>\n",
       "      <td>0</td>\n",
       "      <td>0</td>\n",
       "      <td>27.1</td>\n",
       "      <td>1.441</td>\n",
       "      <td>57</td>\n",
       "      <td>0</td>\n",
       "    </tr>\n",
       "    <tr>\n",
       "      <th>13</th>\n",
       "      <td>1</td>\n",
       "      <td>189</td>\n",
       "      <td>60</td>\n",
       "      <td>23</td>\n",
       "      <td>846</td>\n",
       "      <td>30.1</td>\n",
       "      <td>0.398</td>\n",
       "      <td>59</td>\n",
       "      <td>1</td>\n",
       "    </tr>\n",
       "    <tr>\n",
       "      <th>14</th>\n",
       "      <td>5</td>\n",
       "      <td>166</td>\n",
       "      <td>72</td>\n",
       "      <td>19</td>\n",
       "      <td>175</td>\n",
       "      <td>25.8</td>\n",
       "      <td>0.587</td>\n",
       "      <td>51</td>\n",
       "      <td>1</td>\n",
       "    </tr>\n",
       "  </tbody>\n",
       "</table>\n",
       "</div>"
      ],
      "text/plain": [
       "    Pregnancies  Glucose  BloodPressure  SkinThickness  Insulin   BMI  \\\n",
       "0             6      148             72             35        0  33.6   \n",
       "1             1       85             66             29        0  26.6   \n",
       "2             8      183             64              0        0  23.3   \n",
       "3             1       89             66             23       94  28.1   \n",
       "4             0      137             40             35      168  43.1   \n",
       "5             5      116             74              0        0  25.6   \n",
       "6             3       78             50             32       88  31.0   \n",
       "7            10      115              0              0        0  35.3   \n",
       "8             2      197             70             45      543  30.5   \n",
       "9             8      125             96              0        0   0.0   \n",
       "10            4      110             92              0        0  37.6   \n",
       "11           10      168             74              0        0  38.0   \n",
       "12           10      139             80              0        0  27.1   \n",
       "13            1      189             60             23      846  30.1   \n",
       "14            5      166             72             19      175  25.8   \n",
       "\n",
       "    DiabetesPedigreeFunction  Age  Outcome  \n",
       "0                      0.627   50        1  \n",
       "1                      0.351   31        0  \n",
       "2                      0.672   32        1  \n",
       "3                      0.167   21        0  \n",
       "4                      2.288   33        1  \n",
       "5                      0.201   30        0  \n",
       "6                      0.248   26        1  \n",
       "7                      0.134   29        0  \n",
       "8                      0.158   53        1  \n",
       "9                      0.232   54        1  \n",
       "10                     0.191   30        0  \n",
       "11                     0.537   34        1  \n",
       "12                     1.441   57        0  \n",
       "13                     0.398   59        1  \n",
       "14                     0.587   51        1  "
      ]
     },
     "execution_count": 2,
     "metadata": {},
     "output_type": "execute_result"
    }
   ],
   "source": [
    "dataset = pd.read_csv('diabetes.csv')\n",
    "dataset.head(15)"
   ]
  },
  {
   "cell_type": "code",
   "execution_count": 3,
   "metadata": {},
   "outputs": [
    {
     "data": {
      "text/html": [
       "<div>\n",
       "<style scoped>\n",
       "    .dataframe tbody tr th:only-of-type {\n",
       "        vertical-align: middle;\n",
       "    }\n",
       "\n",
       "    .dataframe tbody tr th {\n",
       "        vertical-align: top;\n",
       "    }\n",
       "\n",
       "    .dataframe thead th {\n",
       "        text-align: right;\n",
       "    }\n",
       "</style>\n",
       "<table border=\"1\" class=\"dataframe\">\n",
       "  <thead>\n",
       "    <tr style=\"text-align: right;\">\n",
       "      <th></th>\n",
       "      <th>Pregnancies</th>\n",
       "      <th>Glucose</th>\n",
       "      <th>BloodPressure</th>\n",
       "      <th>SkinThickness</th>\n",
       "      <th>Insulin</th>\n",
       "      <th>BMI</th>\n",
       "      <th>DiabetesPedigreeFunction</th>\n",
       "      <th>Age</th>\n",
       "      <th>Outcome</th>\n",
       "    </tr>\n",
       "  </thead>\n",
       "  <tbody>\n",
       "    <tr>\n",
       "      <th>count</th>\n",
       "      <td>768.000000</td>\n",
       "      <td>768.000000</td>\n",
       "      <td>768.000000</td>\n",
       "      <td>768.000000</td>\n",
       "      <td>768.000000</td>\n",
       "      <td>768.000000</td>\n",
       "      <td>768.000000</td>\n",
       "      <td>768.000000</td>\n",
       "      <td>768.000000</td>\n",
       "    </tr>\n",
       "    <tr>\n",
       "      <th>mean</th>\n",
       "      <td>3.845052</td>\n",
       "      <td>120.894531</td>\n",
       "      <td>69.105469</td>\n",
       "      <td>20.536458</td>\n",
       "      <td>79.799479</td>\n",
       "      <td>31.992578</td>\n",
       "      <td>0.471876</td>\n",
       "      <td>33.240885</td>\n",
       "      <td>0.348958</td>\n",
       "    </tr>\n",
       "    <tr>\n",
       "      <th>std</th>\n",
       "      <td>3.369578</td>\n",
       "      <td>31.972618</td>\n",
       "      <td>19.355807</td>\n",
       "      <td>15.952218</td>\n",
       "      <td>115.244002</td>\n",
       "      <td>7.884160</td>\n",
       "      <td>0.331329</td>\n",
       "      <td>11.760232</td>\n",
       "      <td>0.476951</td>\n",
       "    </tr>\n",
       "    <tr>\n",
       "      <th>min</th>\n",
       "      <td>0.000000</td>\n",
       "      <td>0.000000</td>\n",
       "      <td>0.000000</td>\n",
       "      <td>0.000000</td>\n",
       "      <td>0.000000</td>\n",
       "      <td>0.000000</td>\n",
       "      <td>0.078000</td>\n",
       "      <td>21.000000</td>\n",
       "      <td>0.000000</td>\n",
       "    </tr>\n",
       "    <tr>\n",
       "      <th>25%</th>\n",
       "      <td>1.000000</td>\n",
       "      <td>99.000000</td>\n",
       "      <td>62.000000</td>\n",
       "      <td>0.000000</td>\n",
       "      <td>0.000000</td>\n",
       "      <td>27.300000</td>\n",
       "      <td>0.243750</td>\n",
       "      <td>24.000000</td>\n",
       "      <td>0.000000</td>\n",
       "    </tr>\n",
       "    <tr>\n",
       "      <th>50%</th>\n",
       "      <td>3.000000</td>\n",
       "      <td>117.000000</td>\n",
       "      <td>72.000000</td>\n",
       "      <td>23.000000</td>\n",
       "      <td>30.500000</td>\n",
       "      <td>32.000000</td>\n",
       "      <td>0.372500</td>\n",
       "      <td>29.000000</td>\n",
       "      <td>0.000000</td>\n",
       "    </tr>\n",
       "    <tr>\n",
       "      <th>75%</th>\n",
       "      <td>6.000000</td>\n",
       "      <td>140.250000</td>\n",
       "      <td>80.000000</td>\n",
       "      <td>32.000000</td>\n",
       "      <td>127.250000</td>\n",
       "      <td>36.600000</td>\n",
       "      <td>0.626250</td>\n",
       "      <td>41.000000</td>\n",
       "      <td>1.000000</td>\n",
       "    </tr>\n",
       "    <tr>\n",
       "      <th>max</th>\n",
       "      <td>17.000000</td>\n",
       "      <td>199.000000</td>\n",
       "      <td>122.000000</td>\n",
       "      <td>99.000000</td>\n",
       "      <td>846.000000</td>\n",
       "      <td>67.100000</td>\n",
       "      <td>2.420000</td>\n",
       "      <td>81.000000</td>\n",
       "      <td>1.000000</td>\n",
       "    </tr>\n",
       "  </tbody>\n",
       "</table>\n",
       "</div>"
      ],
      "text/plain": [
       "       Pregnancies     Glucose  BloodPressure  SkinThickness     Insulin  \\\n",
       "count   768.000000  768.000000     768.000000     768.000000  768.000000   \n",
       "mean      3.845052  120.894531      69.105469      20.536458   79.799479   \n",
       "std       3.369578   31.972618      19.355807      15.952218  115.244002   \n",
       "min       0.000000    0.000000       0.000000       0.000000    0.000000   \n",
       "25%       1.000000   99.000000      62.000000       0.000000    0.000000   \n",
       "50%       3.000000  117.000000      72.000000      23.000000   30.500000   \n",
       "75%       6.000000  140.250000      80.000000      32.000000  127.250000   \n",
       "max      17.000000  199.000000     122.000000      99.000000  846.000000   \n",
       "\n",
       "              BMI  DiabetesPedigreeFunction         Age     Outcome  \n",
       "count  768.000000                768.000000  768.000000  768.000000  \n",
       "mean    31.992578                  0.471876   33.240885    0.348958  \n",
       "std      7.884160                  0.331329   11.760232    0.476951  \n",
       "min      0.000000                  0.078000   21.000000    0.000000  \n",
       "25%     27.300000                  0.243750   24.000000    0.000000  \n",
       "50%     32.000000                  0.372500   29.000000    0.000000  \n",
       "75%     36.600000                  0.626250   41.000000    1.000000  \n",
       "max     67.100000                  2.420000   81.000000    1.000000  "
      ]
     },
     "execution_count": 3,
     "metadata": {},
     "output_type": "execute_result"
    }
   ],
   "source": [
    "dataset.describe()"
   ]
  },
  {
   "cell_type": "code",
   "execution_count": 4,
   "metadata": {},
   "outputs": [],
   "source": [
    "dataset_copy = dataset.copy()"
   ]
  },
  {
   "cell_type": "code",
   "execution_count": 5,
   "metadata": {},
   "outputs": [
    {
     "data": {
      "text/plain": [
       "0    500\n",
       "1    268\n",
       "Name: Outcome, dtype: int64"
      ]
     },
     "execution_count": 5,
     "metadata": {},
     "output_type": "execute_result"
    }
   ],
   "source": [
    "dataset['Outcome'].value_counts()\n",
    "#We can see the data is skewed, so accuracy is not efficient to evaluate"
   ]
  },
  {
   "cell_type": "code",
   "execution_count": 6,
   "metadata": {},
   "outputs": [
    {
     "data": {
      "text/html": [
       "<div>\n",
       "<style scoped>\n",
       "    .dataframe tbody tr th:only-of-type {\n",
       "        vertical-align: middle;\n",
       "    }\n",
       "\n",
       "    .dataframe tbody tr th {\n",
       "        vertical-align: top;\n",
       "    }\n",
       "\n",
       "    .dataframe thead th {\n",
       "        text-align: right;\n",
       "    }\n",
       "</style>\n",
       "<table border=\"1\" class=\"dataframe\">\n",
       "  <thead>\n",
       "    <tr style=\"text-align: right;\">\n",
       "      <th></th>\n",
       "      <th>Pregnancies</th>\n",
       "      <th>Glucose</th>\n",
       "      <th>BloodPressure</th>\n",
       "      <th>SkinThickness</th>\n",
       "      <th>Insulin</th>\n",
       "      <th>BMI</th>\n",
       "      <th>DiabetesPedigreeFunction</th>\n",
       "      <th>Age</th>\n",
       "      <th>Outcome</th>\n",
       "    </tr>\n",
       "  </thead>\n",
       "  <tbody>\n",
       "    <tr>\n",
       "      <th>0</th>\n",
       "      <td>6</td>\n",
       "      <td>148.0</td>\n",
       "      <td>72.0</td>\n",
       "      <td>35.0</td>\n",
       "      <td>NaN</td>\n",
       "      <td>33.6</td>\n",
       "      <td>0.627</td>\n",
       "      <td>50</td>\n",
       "      <td>1</td>\n",
       "    </tr>\n",
       "    <tr>\n",
       "      <th>1</th>\n",
       "      <td>1</td>\n",
       "      <td>85.0</td>\n",
       "      <td>66.0</td>\n",
       "      <td>29.0</td>\n",
       "      <td>NaN</td>\n",
       "      <td>26.6</td>\n",
       "      <td>0.351</td>\n",
       "      <td>31</td>\n",
       "      <td>0</td>\n",
       "    </tr>\n",
       "    <tr>\n",
       "      <th>2</th>\n",
       "      <td>8</td>\n",
       "      <td>183.0</td>\n",
       "      <td>64.0</td>\n",
       "      <td>NaN</td>\n",
       "      <td>NaN</td>\n",
       "      <td>23.3</td>\n",
       "      <td>0.672</td>\n",
       "      <td>32</td>\n",
       "      <td>1</td>\n",
       "    </tr>\n",
       "    <tr>\n",
       "      <th>3</th>\n",
       "      <td>1</td>\n",
       "      <td>89.0</td>\n",
       "      <td>66.0</td>\n",
       "      <td>23.0</td>\n",
       "      <td>94.0</td>\n",
       "      <td>28.1</td>\n",
       "      <td>0.167</td>\n",
       "      <td>21</td>\n",
       "      <td>0</td>\n",
       "    </tr>\n",
       "    <tr>\n",
       "      <th>4</th>\n",
       "      <td>0</td>\n",
       "      <td>137.0</td>\n",
       "      <td>40.0</td>\n",
       "      <td>35.0</td>\n",
       "      <td>168.0</td>\n",
       "      <td>43.1</td>\n",
       "      <td>2.288</td>\n",
       "      <td>33</td>\n",
       "      <td>1</td>\n",
       "    </tr>\n",
       "    <tr>\n",
       "      <th>5</th>\n",
       "      <td>5</td>\n",
       "      <td>116.0</td>\n",
       "      <td>74.0</td>\n",
       "      <td>NaN</td>\n",
       "      <td>NaN</td>\n",
       "      <td>25.6</td>\n",
       "      <td>0.201</td>\n",
       "      <td>30</td>\n",
       "      <td>0</td>\n",
       "    </tr>\n",
       "    <tr>\n",
       "      <th>6</th>\n",
       "      <td>3</td>\n",
       "      <td>78.0</td>\n",
       "      <td>50.0</td>\n",
       "      <td>32.0</td>\n",
       "      <td>88.0</td>\n",
       "      <td>31.0</td>\n",
       "      <td>0.248</td>\n",
       "      <td>26</td>\n",
       "      <td>1</td>\n",
       "    </tr>\n",
       "    <tr>\n",
       "      <th>7</th>\n",
       "      <td>10</td>\n",
       "      <td>115.0</td>\n",
       "      <td>NaN</td>\n",
       "      <td>NaN</td>\n",
       "      <td>NaN</td>\n",
       "      <td>35.3</td>\n",
       "      <td>0.134</td>\n",
       "      <td>29</td>\n",
       "      <td>0</td>\n",
       "    </tr>\n",
       "    <tr>\n",
       "      <th>8</th>\n",
       "      <td>2</td>\n",
       "      <td>197.0</td>\n",
       "      <td>70.0</td>\n",
       "      <td>45.0</td>\n",
       "      <td>543.0</td>\n",
       "      <td>30.5</td>\n",
       "      <td>0.158</td>\n",
       "      <td>53</td>\n",
       "      <td>1</td>\n",
       "    </tr>\n",
       "    <tr>\n",
       "      <th>9</th>\n",
       "      <td>8</td>\n",
       "      <td>125.0</td>\n",
       "      <td>96.0</td>\n",
       "      <td>NaN</td>\n",
       "      <td>NaN</td>\n",
       "      <td>NaN</td>\n",
       "      <td>0.232</td>\n",
       "      <td>54</td>\n",
       "      <td>1</td>\n",
       "    </tr>\n",
       "  </tbody>\n",
       "</table>\n",
       "</div>"
      ],
      "text/plain": [
       "   Pregnancies  Glucose  BloodPressure  SkinThickness  Insulin   BMI  \\\n",
       "0            6    148.0           72.0           35.0      NaN  33.6   \n",
       "1            1     85.0           66.0           29.0      NaN  26.6   \n",
       "2            8    183.0           64.0            NaN      NaN  23.3   \n",
       "3            1     89.0           66.0           23.0     94.0  28.1   \n",
       "4            0    137.0           40.0           35.0    168.0  43.1   \n",
       "5            5    116.0           74.0            NaN      NaN  25.6   \n",
       "6            3     78.0           50.0           32.0     88.0  31.0   \n",
       "7           10    115.0            NaN            NaN      NaN  35.3   \n",
       "8            2    197.0           70.0           45.0    543.0  30.5   \n",
       "9            8    125.0           96.0            NaN      NaN   NaN   \n",
       "\n",
       "   DiabetesPedigreeFunction  Age  Outcome  \n",
       "0                     0.627   50        1  \n",
       "1                     0.351   31        0  \n",
       "2                     0.672   32        1  \n",
       "3                     0.167   21        0  \n",
       "4                     2.288   33        1  \n",
       "5                     0.201   30        0  \n",
       "6                     0.248   26        1  \n",
       "7                     0.134   29        0  \n",
       "8                     0.158   53        1  \n",
       "9                     0.232   54        1  "
      ]
     },
     "execution_count": 6,
     "metadata": {},
     "output_type": "execute_result"
    }
   ],
   "source": [
    "#Also we can see some columns like BP,Glucose,etc possess 0 as min value, which is not possible\n",
    "#So let's change those values to NaN\n",
    "dataset[['Glucose','BloodPressure','SkinThickness','Insulin','BMI']] =dataset[['Glucose',\n",
    "                                    'BloodPressure','SkinThickness','Insulin','BMI']].replace(0,np.NaN)\n",
    "dataset.head(10)"
   ]
  },
  {
   "cell_type": "code",
   "execution_count": 7,
   "metadata": {},
   "outputs": [
    {
     "data": {
      "text/plain": [
       "Pregnancies                   0\n",
       "Glucose                       5\n",
       "BloodPressure                35\n",
       "SkinThickness               227\n",
       "Insulin                     374\n",
       "BMI                          11\n",
       "DiabetesPedigreeFunction      0\n",
       "Age                           0\n",
       "Outcome                       0\n",
       "dtype: int64"
      ]
     },
     "execution_count": 7,
     "metadata": {},
     "output_type": "execute_result"
    }
   ],
   "source": [
    "dataset.isnull().sum()"
   ]
  },
  {
   "cell_type": "code",
   "execution_count": 8,
   "metadata": {},
   "outputs": [],
   "source": [
    "#Filling all the missing values\n",
    "dataset['Glucose'].fillna(dataset['Glucose'].mean(),inplace = True)\n",
    "dataset['BMI'].fillna(dataset['BMI'].mean(),inplace = True)\n",
    "dataset['BloodPressure'].fillna(dataset['BloodPressure'].mean(),inplace = True)\n",
    "dataset['SkinThickness'].fillna(dataset['SkinThickness'].median(),inplace = True)\n",
    "dataset['Insulin'].fillna(dataset['Insulin'].median(),inplace = True)"
   ]
  },
  {
   "cell_type": "code",
   "execution_count": 9,
   "metadata": {},
   "outputs": [
    {
     "data": {
      "text/html": [
       "<div>\n",
       "<style scoped>\n",
       "    .dataframe tbody tr th:only-of-type {\n",
       "        vertical-align: middle;\n",
       "    }\n",
       "\n",
       "    .dataframe tbody tr th {\n",
       "        vertical-align: top;\n",
       "    }\n",
       "\n",
       "    .dataframe thead th {\n",
       "        text-align: right;\n",
       "    }\n",
       "</style>\n",
       "<table border=\"1\" class=\"dataframe\">\n",
       "  <thead>\n",
       "    <tr style=\"text-align: right;\">\n",
       "      <th></th>\n",
       "      <th>Pregnancies</th>\n",
       "      <th>Glucose</th>\n",
       "      <th>BloodPressure</th>\n",
       "      <th>SkinThickness</th>\n",
       "      <th>Insulin</th>\n",
       "      <th>BMI</th>\n",
       "      <th>DiabetesPedigreeFunction</th>\n",
       "      <th>Age</th>\n",
       "      <th>Outcome</th>\n",
       "    </tr>\n",
       "  </thead>\n",
       "  <tbody>\n",
       "    <tr>\n",
       "      <th>count</th>\n",
       "      <td>768.000000</td>\n",
       "      <td>768.000000</td>\n",
       "      <td>768.000000</td>\n",
       "      <td>768.000000</td>\n",
       "      <td>768.000000</td>\n",
       "      <td>768.000000</td>\n",
       "      <td>768.000000</td>\n",
       "      <td>768.000000</td>\n",
       "      <td>768.000000</td>\n",
       "    </tr>\n",
       "    <tr>\n",
       "      <th>mean</th>\n",
       "      <td>3.845052</td>\n",
       "      <td>121.686763</td>\n",
       "      <td>72.405184</td>\n",
       "      <td>29.108073</td>\n",
       "      <td>140.671875</td>\n",
       "      <td>32.457464</td>\n",
       "      <td>0.471876</td>\n",
       "      <td>33.240885</td>\n",
       "      <td>0.348958</td>\n",
       "    </tr>\n",
       "    <tr>\n",
       "      <th>std</th>\n",
       "      <td>3.369578</td>\n",
       "      <td>30.435949</td>\n",
       "      <td>12.096346</td>\n",
       "      <td>8.791221</td>\n",
       "      <td>86.383060</td>\n",
       "      <td>6.875151</td>\n",
       "      <td>0.331329</td>\n",
       "      <td>11.760232</td>\n",
       "      <td>0.476951</td>\n",
       "    </tr>\n",
       "    <tr>\n",
       "      <th>min</th>\n",
       "      <td>0.000000</td>\n",
       "      <td>44.000000</td>\n",
       "      <td>24.000000</td>\n",
       "      <td>7.000000</td>\n",
       "      <td>14.000000</td>\n",
       "      <td>18.200000</td>\n",
       "      <td>0.078000</td>\n",
       "      <td>21.000000</td>\n",
       "      <td>0.000000</td>\n",
       "    </tr>\n",
       "    <tr>\n",
       "      <th>25%</th>\n",
       "      <td>1.000000</td>\n",
       "      <td>99.750000</td>\n",
       "      <td>64.000000</td>\n",
       "      <td>25.000000</td>\n",
       "      <td>121.500000</td>\n",
       "      <td>27.500000</td>\n",
       "      <td>0.243750</td>\n",
       "      <td>24.000000</td>\n",
       "      <td>0.000000</td>\n",
       "    </tr>\n",
       "    <tr>\n",
       "      <th>50%</th>\n",
       "      <td>3.000000</td>\n",
       "      <td>117.000000</td>\n",
       "      <td>72.202592</td>\n",
       "      <td>29.000000</td>\n",
       "      <td>125.000000</td>\n",
       "      <td>32.400000</td>\n",
       "      <td>0.372500</td>\n",
       "      <td>29.000000</td>\n",
       "      <td>0.000000</td>\n",
       "    </tr>\n",
       "    <tr>\n",
       "      <th>75%</th>\n",
       "      <td>6.000000</td>\n",
       "      <td>140.250000</td>\n",
       "      <td>80.000000</td>\n",
       "      <td>32.000000</td>\n",
       "      <td>127.250000</td>\n",
       "      <td>36.600000</td>\n",
       "      <td>0.626250</td>\n",
       "      <td>41.000000</td>\n",
       "      <td>1.000000</td>\n",
       "    </tr>\n",
       "    <tr>\n",
       "      <th>max</th>\n",
       "      <td>17.000000</td>\n",
       "      <td>199.000000</td>\n",
       "      <td>122.000000</td>\n",
       "      <td>99.000000</td>\n",
       "      <td>846.000000</td>\n",
       "      <td>67.100000</td>\n",
       "      <td>2.420000</td>\n",
       "      <td>81.000000</td>\n",
       "      <td>1.000000</td>\n",
       "    </tr>\n",
       "  </tbody>\n",
       "</table>\n",
       "</div>"
      ],
      "text/plain": [
       "       Pregnancies     Glucose  BloodPressure  SkinThickness     Insulin  \\\n",
       "count   768.000000  768.000000     768.000000     768.000000  768.000000   \n",
       "mean      3.845052  121.686763      72.405184      29.108073  140.671875   \n",
       "std       3.369578   30.435949      12.096346       8.791221   86.383060   \n",
       "min       0.000000   44.000000      24.000000       7.000000   14.000000   \n",
       "25%       1.000000   99.750000      64.000000      25.000000  121.500000   \n",
       "50%       3.000000  117.000000      72.202592      29.000000  125.000000   \n",
       "75%       6.000000  140.250000      80.000000      32.000000  127.250000   \n",
       "max      17.000000  199.000000     122.000000      99.000000  846.000000   \n",
       "\n",
       "              BMI  DiabetesPedigreeFunction         Age     Outcome  \n",
       "count  768.000000                768.000000  768.000000  768.000000  \n",
       "mean    32.457464                  0.471876   33.240885    0.348958  \n",
       "std      6.875151                  0.331329   11.760232    0.476951  \n",
       "min     18.200000                  0.078000   21.000000    0.000000  \n",
       "25%     27.500000                  0.243750   24.000000    0.000000  \n",
       "50%     32.400000                  0.372500   29.000000    0.000000  \n",
       "75%     36.600000                  0.626250   41.000000    1.000000  \n",
       "max     67.100000                  2.420000   81.000000    1.000000  "
      ]
     },
     "execution_count": 9,
     "metadata": {},
     "output_type": "execute_result"
    }
   ],
   "source": [
    "dataset.describe()"
   ]
  },
  {
   "cell_type": "markdown",
   "metadata": {},
   "source": [
    "# Univariate Analysis"
   ]
  },
  {
   "cell_type": "code",
   "execution_count": 10,
   "metadata": {},
   "outputs": [
    {
     "data": {
      "text/plain": [
       "(array([246., 178., 125.,  50.,  83.,  52.,  11.,  19.,   3.,   1.]),\n",
       " array([ 0. ,  1.7,  3.4,  5.1,  6.8,  8.5, 10.2, 11.9, 13.6, 15.3, 17. ]),\n",
       " <a list of 10 Patch objects>)"
      ]
     },
     "execution_count": 10,
     "metadata": {},
     "output_type": "execute_result"
    },
    {
     "data": {
      "image/png": "[encoded data removed]",
      "text/plain": [
       "<Figure size 432x288 with 1 Axes>"
      ]
     },
     "metadata": {},
     "output_type": "display_data"
    }
   ],
   "source": [
    "plt.hist(dataset['Pregnancies'],bins = 10)"
   ]
  },
  {
   "cell_type": "code",
   "execution_count": 11,
   "metadata": {},
   "outputs": [
    {
     "data": {
      "text/plain": [
       "(array([  4.,  19.,  87., 149., 161., 130.,  88.,  54.,  44.,  32.]),\n",
       " array([ 44. ,  59.5,  75. ,  90.5, 106. , 121.5, 137. , 152.5, 168. ,\n",
       "        183.5, 199. ]),\n",
       " <a list of 10 Patch objects>)"
      ]
     },
     "execution_count": 11,
     "metadata": {},
     "output_type": "execute_result"
    },
    {
     "data": {
      "image/png": "[encoded data removed]",
      "text/plain": [
       "<Figure size 432x288 with 1 Axes>"
      ]
     },
     "metadata": {},
     "output_type": "display_data"
    }
   ],
   "source": [
    "plt.hist(dataset['Glucose'],bins = 10)"
   ]
  },
  {
   "cell_type": "code",
   "execution_count": 12,
   "metadata": {},
   "outputs": [
    {
     "data": {
      "text/plain": [
       "(array([  3.,   2.,  35., 118., 261., 214., 105.,  18.,  10.,   2.]),\n",
       " array([ 24. ,  33.8,  43.6,  53.4,  63.2,  73. ,  82.8,  92.6, 102.4,\n",
       "        112.2, 122. ]),\n",
       " <a list of 10 Patch objects>)"
      ]
     },
     "execution_count": 12,
     "metadata": {},
     "output_type": "execute_result"
    },
    {
     "data": {
      "image/png": "[encoded data removed]",
      "text/plain": [
       "<Figure size 432x288 with 1 Axes>"
      ]
     },
     "metadata": {},
     "output_type": "display_data"
    }
   ],
   "source": [
    "plt.hist(dataset['BloodPressure'],bins = 10)"
   ]
  },
  {
   "cell_type": "code",
   "execution_count": 13,
   "metadata": {},
   "outputs": [
    {
     "data": {
      "text/plain": [
       "(array([ 59., 141., 408., 118.,  36.,   4.,   1.,   0.,   0.,   1.]),\n",
       " array([ 7. , 16.2, 25.4, 34.6, 43.8, 53. , 62.2, 71.4, 80.6, 89.8, 99. ]),\n",
       " <a list of 10 Patch objects>)"
      ]
     },
     "execution_count": 13,
     "metadata": {},
     "output_type": "execute_result"
    },
    {
     "data": {
      "image/png": "[encoded data removed]",
      "text/plain": [
       "<Figure size 432x288 with 1 Axes>"
      ]
     },
     "metadata": {},
     "output_type": "display_data"
    }
   ],
   "source": [
    "plt.hist(dataset['SkinThickness'],bins = 10)"
   ]
  },
  {
   "cell_type": "code",
   "execution_count": 14,
   "metadata": {},
   "outputs": [
    {
     "data": {
      "text/plain": [
       "(array([142., 517.,  55.,  29.,   7.,  10.,   4.,   1.,   2.,   1.]),\n",
       " array([ 14. ,  97.2, 180.4, 263.6, 346.8, 430. , 513.2, 596.4, 679.6,\n",
       "        762.8, 846. ]),\n",
       " <a list of 10 Patch objects>)"
      ]
     },
     "execution_count": 14,
     "metadata": {},
     "output_type": "execute_result"
    },
    {
     "data": {
      "image/png": "[encoded data removed]",
      "text/plain": [
       "<Figure size 432x288 with 1 Axes>"
      ]
     },
     "metadata": {},
     "output_type": "display_data"
    }
   ],
   "source": [
    "plt.hist(dataset['Insulin'],bins = 10)"
   ]
  },
  {
   "cell_type": "code",
   "execution_count": 15,
   "metadata": {},
   "outputs": [
    {
     "data": {
      "text/plain": [
       "(array([ 52., 161., 207., 193.,  91.,  48.,  10.,   4.,   1.,   1.]),\n",
       " array([18.2 , 23.09, 27.98, 32.87, 37.76, 42.65, 47.54, 52.43, 57.32,\n",
       "        62.21, 67.1 ]),\n",
       " <a list of 10 Patch objects>)"
      ]
     },
     "execution_count": 15,
     "metadata": {},
     "output_type": "execute_result"
    },
    {
     "data": {
      "image/png": "[encoded data removed]",
      "text/plain": [
       "<Figure size 432x288 with 1 Axes>"
      ]
     },
     "metadata": {},
     "output_type": "display_data"
    }
   ],
   "source": [
    "plt.hist(dataset['BMI'],bins = 10)"
   ]
  },
  {
   "cell_type": "code",
   "execution_count": 16,
   "metadata": {},
   "outputs": [
    {
     "data": {
      "text/plain": [
       "(array([ 14.,  49.,  89., 166., 126., 126., 115.,  55.,  21.,   7.]),\n",
       " array([-2.55104645, -2.20756505, -1.86408365, -1.52060225, -1.17712086,\n",
       "        -0.83363946, -0.49015806, -0.14667666,  0.19680474,  0.54028614,\n",
       "         0.88376754]),\n",
       " <a list of 10 Patch objects>)"
      ]
     },
     "execution_count": 16,
     "metadata": {},
     "output_type": "execute_result"
    },
    {
     "data": {
      "image/png": "[encoded data removed]",
      "text/plain": [
       "<Figure size 432x288 with 1 Axes>"
      ]
     },
     "metadata": {},
     "output_type": "display_data"
    }
   ],
   "source": [
    "plt.hist(np.log(dataset['DiabetesPedigreeFunction']),bins = 10)"
   ]
  },
  {
   "cell_type": "code",
   "execution_count": 17,
   "metadata": {},
   "outputs": [
    {
     "data": {
      "text/plain": [
       "(array([219., 177.,  78.,  75.,  86.,  52.,  39.,  26.,  15.,   1.]),\n",
       " array([2.75892418, 2.91570663, 3.07248908, 3.22927154, 3.38605399,\n",
       "        3.54283644, 3.6996189 , 3.85640135, 4.0131838 , 4.16996626,\n",
       "        4.32674871]),\n",
       " <a list of 10 Patch objects>)"
      ]
     },
     "execution_count": 17,
     "metadata": {},
     "output_type": "execute_result"
    },
    {
     "data": {
      "image/png": "[encoded data removed]",
      "text/plain": [
       "<Figure size 432x288 with 1 Axes>"
      ]
     },
     "metadata": {},
     "output_type": "display_data"
    }
   ],
   "source": [
    "plt.hist(np.cbrt(dataset['Age']),bins = 10)"
   ]
  },
  {
   "cell_type": "markdown",
   "metadata": {},
   "source": [
    "# Bivariate Analysis"
   ]
  },
  {
   "cell_type": "code",
   "execution_count": 18,
   "metadata": {},
   "outputs": [
    {
     "data": {
      "text/html": [
       "<style  type=\"text/css\" >\n",
       "    #T_be902738_c6cc_11e8_a8cc_08edb9e8792crow0_col0 {\n",
       "            background-color:  #023858;\n",
       "        }    #T_be902738_c6cc_11e8_a8cc_08edb9e8792crow0_col1 {\n",
       "            background-color:  #fff7fb;\n",
       "        }    #T_be902738_c6cc_11e8_a8cc_08edb9e8792crow0_col2 {\n",
       "            background-color:  #d9d8ea;\n",
       "        }    #T_be902738_c6cc_11e8_a8cc_08edb9e8792crow0_col3 {\n",
       "            background-color:  #fff7fb;\n",
       "        }    #T_be902738_c6cc_11e8_a8cc_08edb9e8792crow0_col4 {\n",
       "            background-color:  #fff7fb;\n",
       "        }    #T_be902738_c6cc_11e8_a8cc_08edb9e8792crow0_col5 {\n",
       "            background-color:  #fff7fb;\n",
       "        }    #T_be902738_c6cc_11e8_a8cc_08edb9e8792crow0_col6 {\n",
       "            background-color:  #fff7fb;\n",
       "        }    #T_be902738_c6cc_11e8_a8cc_08edb9e8792crow0_col7 {\n",
       "            background-color:  #63a2cb;\n",
       "        }    #T_be902738_c6cc_11e8_a8cc_08edb9e8792crow0_col8 {\n",
       "            background-color:  #f5eef6;\n",
       "        }    #T_be902738_c6cc_11e8_a8cc_08edb9e8792crow1_col0 {\n",
       "            background-color:  #e6e2ef;\n",
       "        }    #T_be902738_c6cc_11e8_a8cc_08edb9e8792crow1_col1 {\n",
       "            background-color:  #023858;\n",
       "        }    #T_be902738_c6cc_11e8_a8cc_08edb9e8792crow1_col2 {\n",
       "            background-color:  #d7d6e9;\n",
       "        }    #T_be902738_c6cc_11e8_a8cc_08edb9e8792crow1_col3 {\n",
       "            background-color:  #ede8f3;\n",
       "        }    #T_be902738_c6cc_11e8_a8cc_08edb9e8792crow1_col4 {\n",
       "            background-color:  #9ab8d8;\n",
       "        }    #T_be902738_c6cc_11e8_a8cc_08edb9e8792crow1_col5 {\n",
       "            background-color:  #d9d8ea;\n",
       "        }    #T_be902738_c6cc_11e8_a8cc_08edb9e8792crow1_col6 {\n",
       "            background-color:  #e3e0ee;\n",
       "        }    #T_be902738_c6cc_11e8_a8cc_08edb9e8792crow1_col7 {\n",
       "            background-color:  #d1d2e6;\n",
       "        }    #T_be902738_c6cc_11e8_a8cc_08edb9e8792crow1_col8 {\n",
       "            background-color:  #9fbad9;\n",
       "        }    #T_be902738_c6cc_11e8_a8cc_08edb9e8792crow2_col0 {\n",
       "            background-color:  #d4d4e8;\n",
       "        }    #T_be902738_c6cc_11e8_a8cc_08edb9e8792crow2_col1 {\n",
       "            background-color:  #f0eaf4;\n",
       "        }    #T_be902738_c6cc_11e8_a8cc_08edb9e8792crow2_col2 {\n",
       "            background-color:  #023858;\n",
       "        }    #T_be902738_c6cc_11e8_a8cc_08edb9e8792crow2_col3 {\n",
       "            background-color:  #ede8f3;\n",
       "        }    #T_be902738_c6cc_11e8_a8cc_08edb9e8792crow2_col4 {\n",
       "            background-color:  #fcf4fa;\n",
       "        }    #T_be902738_c6cc_11e8_a8cc_08edb9e8792crow2_col5 {\n",
       "            background-color:  #cccfe5;\n",
       "        }    #T_be902738_c6cc_11e8_a8cc_08edb9e8792crow2_col6 {\n",
       "            background-color:  #fbf3f9;\n",
       "        }    #T_be902738_c6cc_11e8_a8cc_08edb9e8792crow2_col7 {\n",
       "            background-color:  #bdc8e1;\n",
       "        }    #T_be902738_c6cc_11e8_a8cc_08edb9e8792crow2_col8 {\n",
       "            background-color:  #fff7fb;\n",
       "        }    #T_be902738_c6cc_11e8_a8cc_08edb9e8792crow3_col0 {\n",
       "            background-color:  #eee9f3;\n",
       "        }    #T_be902738_c6cc_11e8_a8cc_08edb9e8792crow3_col1 {\n",
       "            background-color:  #f4edf6;\n",
       "        }    #T_be902738_c6cc_11e8_a8cc_08edb9e8792crow3_col2 {\n",
       "            background-color:  #dddbec;\n",
       "        }    #T_be902738_c6cc_11e8_a8cc_08edb9e8792crow3_col3 {\n",
       "            background-color:  #023858;\n",
       "        }    #T_be902738_c6cc_11e8_a8cc_08edb9e8792crow3_col4 {\n",
       "            background-color:  #eae6f1;\n",
       "        }    #T_be902738_c6cc_11e8_a8cc_08edb9e8792crow3_col5 {\n",
       "            background-color:  #63a2cb;\n",
       "        }    #T_be902738_c6cc_11e8_a8cc_08edb9e8792crow3_col6 {\n",
       "            background-color:  #ebe6f2;\n",
       "        }    #T_be902738_c6cc_11e8_a8cc_08edb9e8792crow3_col7 {\n",
       "            background-color:  #f0eaf4;\n",
       "        }    #T_be902738_c6cc_11e8_a8cc_08edb9e8792crow3_col8 {\n",
       "            background-color:  #f7f0f7;\n",
       "        }    #T_be902738_c6cc_11e8_a8cc_08edb9e8792crow4_col0 {\n",
       "            background-color:  #f7f0f7;\n",
       "        }    #T_be902738_c6cc_11e8_a8cc_08edb9e8792crow4_col1 {\n",
       "            background-color:  #b4c4df;\n",
       "        }    #T_be902738_c6cc_11e8_a8cc_08edb9e8792crow4_col2 {\n",
       "            background-color:  #f8f1f8;\n",
       "        }    #T_be902738_c6cc_11e8_a8cc_08edb9e8792crow4_col3 {\n",
       "            background-color:  #f3edf5;\n",
       "        }    #T_be902738_c6cc_11e8_a8cc_08edb9e8792crow4_col4 {\n",
       "            background-color:  #023858;\n",
       "        }    #T_be902738_c6cc_11e8_a8cc_08edb9e8792crow4_col5 {\n",
       "            background-color:  #e4e1ef;\n",
       "        }    #T_be902738_c6cc_11e8_a8cc_08edb9e8792crow4_col6 {\n",
       "            background-color:  #e6e2ef;\n",
       "        }    #T_be902738_c6cc_11e8_a8cc_08edb9e8792crow4_col7 {\n",
       "            background-color:  #f4eef6;\n",
       "        }    #T_be902738_c6cc_11e8_a8cc_08edb9e8792crow4_col8 {\n",
       "            background-color:  #f8f1f8;\n",
       "        }    #T_be902738_c6cc_11e8_a8cc_08edb9e8792crow5_col0 {\n",
       "            background-color:  #f7f0f7;\n",
       "        }    #T_be902738_c6cc_11e8_a8cc_08edb9e8792crow5_col1 {\n",
       "            background-color:  #ede8f3;\n",
       "        }    #T_be902738_c6cc_11e8_a8cc_08edb9e8792crow5_col2 {\n",
       "            background-color:  #c5cce3;\n",
       "        }    #T_be902738_c6cc_11e8_a8cc_08edb9e8792crow5_col3 {\n",
       "            background-color:  #73a9cf;\n",
       "        }    #T_be902738_c6cc_11e8_a8cc_08edb9e8792crow5_col4 {\n",
       "            background-color:  #e5e1ef;\n",
       "        }    #T_be902738_c6cc_11e8_a8cc_08edb9e8792crow5_col5 {\n",
       "            background-color:  #023858;\n",
       "        }    #T_be902738_c6cc_11e8_a8cc_08edb9e8792crow5_col6 {\n",
       "            background-color:  #e0dded;\n",
       "        }    #T_be902738_c6cc_11e8_a8cc_08edb9e8792crow5_col7 {\n",
       "            background-color:  #fff7fb;\n",
       "        }    #T_be902738_c6cc_11e8_a8cc_08edb9e8792crow5_col8 {\n",
       "            background-color:  #e1dfed;\n",
       "        }    #T_be902738_c6cc_11e8_a8cc_08edb9e8792crow6_col0 {\n",
       "            background-color:  #fff7fb;\n",
       "        }    #T_be902738_c6cc_11e8_a8cc_08edb9e8792crow6_col1 {\n",
       "            background-color:  #fef6fa;\n",
       "        }    #T_be902738_c6cc_11e8_a8cc_08edb9e8792crow6_col2 {\n",
       "            background-color:  #fff7fb;\n",
       "        }    #T_be902738_c6cc_11e8_a8cc_08edb9e8792crow6_col3 {\n",
       "            background-color:  #fcf4fa;\n",
       "        }    #T_be902738_c6cc_11e8_a8cc_08edb9e8792crow6_col4 {\n",
       "            background-color:  #f0eaf4;\n",
       "        }    #T_be902738_c6cc_11e8_a8cc_08edb9e8792crow6_col5 {\n",
       "            background-color:  #eae6f1;\n",
       "        }    #T_be902738_c6cc_11e8_a8cc_08edb9e8792crow6_col6 {\n",
       "            background-color:  #023858;\n",
       "        }    #T_be902738_c6cc_11e8_a8cc_08edb9e8792crow6_col7 {\n",
       "            background-color:  #fef6fa;\n",
       "        }    #T_be902738_c6cc_11e8_a8cc_08edb9e8792crow6_col8 {\n",
       "            background-color:  #fef6fa;\n",
       "        }    #T_be902738_c6cc_11e8_a8cc_08edb9e8792crow7_col0 {\n",
       "            background-color:  #569dc8;\n",
       "        }    #T_be902738_c6cc_11e8_a8cc_08edb9e8792crow7_col1 {\n",
       "            background-color:  #e5e1ef;\n",
       "        }    #T_be902738_c6cc_11e8_a8cc_08edb9e8792crow7_col2 {\n",
       "            background-color:  #b7c5df;\n",
       "        }    #T_be902738_c6cc_11e8_a8cc_08edb9e8792crow7_col3 {\n",
       "            background-color:  #f8f1f8;\n",
       "        }    #T_be902738_c6cc_11e8_a8cc_08edb9e8792crow7_col4 {\n",
       "            background-color:  #f4eef6;\n",
       "        }    #T_be902738_c6cc_11e8_a8cc_08edb9e8792crow7_col5 {\n",
       "            background-color:  #fef6fb;\n",
       "        }    #T_be902738_c6cc_11e8_a8cc_08edb9e8792crow7_col6 {\n",
       "            background-color:  #f5eff6;\n",
       "        }    #T_be902738_c6cc_11e8_a8cc_08edb9e8792crow7_col7 {\n",
       "            background-color:  #023858;\n",
       "        }    #T_be902738_c6cc_11e8_a8cc_08edb9e8792crow7_col8 {\n",
       "            background-color:  #f2ecf5;\n",
       "        }    #T_be902738_c6cc_11e8_a8cc_08edb9e8792crow8_col0 {\n",
       "            background-color:  #d1d2e6;\n",
       "        }    #T_be902738_c6cc_11e8_a8cc_08edb9e8792crow8_col1 {\n",
       "            background-color:  #94b6d7;\n",
       "        }    #T_be902738_c6cc_11e8_a8cc_08edb9e8792crow8_col2 {\n",
       "            background-color:  #e2dfee;\n",
       "        }    #T_be902738_c6cc_11e8_a8cc_08edb9e8792crow8_col3 {\n",
       "            background-color:  #e7e3f0;\n",
       "        }    #T_be902738_c6cc_11e8_a8cc_08edb9e8792crow8_col4 {\n",
       "            background-color:  #e0dded;\n",
       "        }    #T_be902738_c6cc_11e8_a8cc_08edb9e8792crow8_col5 {\n",
       "            background-color:  #c1cae2;\n",
       "        }    #T_be902738_c6cc_11e8_a8cc_08edb9e8792crow8_col6 {\n",
       "            background-color:  #dbdaeb;\n",
       "        }    #T_be902738_c6cc_11e8_a8cc_08edb9e8792crow8_col7 {\n",
       "            background-color:  #d8d7e9;\n",
       "        }    #T_be902738_c6cc_11e8_a8cc_08edb9e8792crow8_col8 {\n",
       "            background-color:  #023858;\n",
       "        }</style>  \n",
       "<table id=\"T_be902738_c6cc_11e8_a8cc_08edb9e8792c\" > \n",
       "<thead>    <tr> \n",
       "        <th class=\"blank level0\" ></th> \n",
       "        <th class=\"col_heading level0 col0\" >Pregnancies</th> \n",
       "        <th class=\"col_heading level0 col1\" >Glucose</th> \n",
       "        <th class=\"col_heading level0 col2\" >BloodPressure</th> \n",
       "        <th class=\"col_heading level0 col3\" >SkinThickness</th> \n",
       "        <th class=\"col_heading level0 col4\" >Insulin</th> \n",
       "        <th class=\"col_heading level0 col5\" >BMI</th> \n",
       "        <th class=\"col_heading level0 col6\" >DiabetesPedigreeFunction</th> \n",
       "        <th class=\"col_heading level0 col7\" >Age</th> \n",
       "        <th class=\"col_heading level0 col8\" >Outcome</th> \n",
       "    </tr></thead> \n",
       "<tbody>    <tr> \n",
       "        <th id=\"T_be902738_c6cc_11e8_a8cc_08edb9e8792clevel0_row0\" class=\"row_heading level0 row0\" >Pregnancies</th> \n",
       "        <td id=\"T_be902738_c6cc_11e8_a8cc_08edb9e8792crow0_col0\" class=\"data row0 col0\" >1</td> \n",
       "        <td id=\"T_be902738_c6cc_11e8_a8cc_08edb9e8792crow0_col1\" class=\"data row0 col1\" >0.13</td> \n",
       "        <td id=\"T_be902738_c6cc_11e8_a8cc_08edb9e8792crow0_col2\" class=\"data row0 col2\" >0.21</td> \n",
       "        <td id=\"T_be902738_c6cc_11e8_a8cc_08edb9e8792crow0_col3\" class=\"data row0 col3\" >0.082</td> \n",
       "        <td id=\"T_be902738_c6cc_11e8_a8cc_08edb9e8792crow0_col4\" class=\"data row0 col4\" >0.025</td> \n",
       "        <td id=\"T_be902738_c6cc_11e8_a8cc_08edb9e8792crow0_col5\" class=\"data row0 col5\" >0.022</td> \n",
       "        <td id=\"T_be902738_c6cc_11e8_a8cc_08edb9e8792crow0_col6\" class=\"data row0 col6\" >-0.034</td> \n",
       "        <td id=\"T_be902738_c6cc_11e8_a8cc_08edb9e8792crow0_col7\" class=\"data row0 col7\" >0.54</td> \n",
       "        <td id=\"T_be902738_c6cc_11e8_a8cc_08edb9e8792crow0_col8\" class=\"data row0 col8\" >0.22</td> \n",
       "    </tr>    <tr> \n",
       "        <th id=\"T_be902738_c6cc_11e8_a8cc_08edb9e8792clevel0_row1\" class=\"row_heading level0 row1\" >Glucose</th> \n",
       "        <td id=\"T_be902738_c6cc_11e8_a8cc_08edb9e8792crow1_col0\" class=\"data row1 col0\" >0.13</td> \n",
       "        <td id=\"T_be902738_c6cc_11e8_a8cc_08edb9e8792crow1_col1\" class=\"data row1 col1\" >1</td> \n",
       "        <td id=\"T_be902738_c6cc_11e8_a8cc_08edb9e8792crow1_col2\" class=\"data row1 col2\" >0.22</td> \n",
       "        <td id=\"T_be902738_c6cc_11e8_a8cc_08edb9e8792crow1_col3\" class=\"data row1 col3\" >0.19</td> \n",
       "        <td id=\"T_be902738_c6cc_11e8_a8cc_08edb9e8792crow1_col4\" class=\"data row1 col4\" >0.42</td> \n",
       "        <td id=\"T_be902738_c6cc_11e8_a8cc_08edb9e8792crow1_col5\" class=\"data row1 col5\" >0.23</td> \n",
       "        <td id=\"T_be902738_c6cc_11e8_a8cc_08edb9e8792crow1_col6\" class=\"data row1 col6\" >0.14</td> \n",
       "        <td id=\"T_be902738_c6cc_11e8_a8cc_08edb9e8792crow1_col7\" class=\"data row1 col7\" >0.27</td> \n",
       "        <td id=\"T_be902738_c6cc_11e8_a8cc_08edb9e8792crow1_col8\" class=\"data row1 col8\" >0.49</td> \n",
       "    </tr>    <tr> \n",
       "        <th id=\"T_be902738_c6cc_11e8_a8cc_08edb9e8792clevel0_row2\" class=\"row_heading level0 row2\" >BloodPressure</th> \n",
       "        <td id=\"T_be902738_c6cc_11e8_a8cc_08edb9e8792crow2_col0\" class=\"data row2 col0\" >0.21</td> \n",
       "        <td id=\"T_be902738_c6cc_11e8_a8cc_08edb9e8792crow2_col1\" class=\"data row2 col1\" >0.22</td> \n",
       "        <td id=\"T_be902738_c6cc_11e8_a8cc_08edb9e8792crow2_col2\" class=\"data row2 col2\" >1</td> \n",
       "        <td id=\"T_be902738_c6cc_11e8_a8cc_08edb9e8792crow2_col3\" class=\"data row2 col3\" >0.19</td> \n",
       "        <td id=\"T_be902738_c6cc_11e8_a8cc_08edb9e8792crow2_col4\" class=\"data row2 col4\" >0.045</td> \n",
       "        <td id=\"T_be902738_c6cc_11e8_a8cc_08edb9e8792crow2_col5\" class=\"data row2 col5\" >0.28</td> \n",
       "        <td id=\"T_be902738_c6cc_11e8_a8cc_08edb9e8792crow2_col6\" class=\"data row2 col6\" >-0.0028</td> \n",
       "        <td id=\"T_be902738_c6cc_11e8_a8cc_08edb9e8792crow2_col7\" class=\"data row2 col7\" >0.32</td> \n",
       "        <td id=\"T_be902738_c6cc_11e8_a8cc_08edb9e8792crow2_col8\" class=\"data row2 col8\" >0.17</td> \n",
       "    </tr>    <tr> \n",
       "        <th id=\"T_be902738_c6cc_11e8_a8cc_08edb9e8792clevel0_row3\" class=\"row_heading level0 row3\" >SkinThickness</th> \n",
       "        <td id=\"T_be902738_c6cc_11e8_a8cc_08edb9e8792crow3_col0\" class=\"data row3 col0\" >0.082</td> \n",
       "        <td id=\"T_be902738_c6cc_11e8_a8cc_08edb9e8792crow3_col1\" class=\"data row3 col1\" >0.19</td> \n",
       "        <td id=\"T_be902738_c6cc_11e8_a8cc_08edb9e8792crow3_col2\" class=\"data row3 col2\" >0.19</td> \n",
       "        <td id=\"T_be902738_c6cc_11e8_a8cc_08edb9e8792crow3_col3\" class=\"data row3 col3\" >1</td> \n",
       "        <td id=\"T_be902738_c6cc_11e8_a8cc_08edb9e8792crow3_col4\" class=\"data row3 col4\" >0.16</td> \n",
       "        <td id=\"T_be902738_c6cc_11e8_a8cc_08edb9e8792crow3_col5\" class=\"data row3 col5\" >0.54</td> \n",
       "        <td id=\"T_be902738_c6cc_11e8_a8cc_08edb9e8792crow3_col6\" class=\"data row3 col6\" >0.1</td> \n",
       "        <td id=\"T_be902738_c6cc_11e8_a8cc_08edb9e8792crow3_col7\" class=\"data row3 col7\" >0.13</td> \n",
       "        <td id=\"T_be902738_c6cc_11e8_a8cc_08edb9e8792crow3_col8\" class=\"data row3 col8\" >0.21</td> \n",
       "    </tr>    <tr> \n",
       "        <th id=\"T_be902738_c6cc_11e8_a8cc_08edb9e8792clevel0_row4\" class=\"row_heading level0 row4\" >Insulin</th> \n",
       "        <td id=\"T_be902738_c6cc_11e8_a8cc_08edb9e8792crow4_col0\" class=\"data row4 col0\" >0.025</td> \n",
       "        <td id=\"T_be902738_c6cc_11e8_a8cc_08edb9e8792crow4_col1\" class=\"data row4 col1\" >0.42</td> \n",
       "        <td id=\"T_be902738_c6cc_11e8_a8cc_08edb9e8792crow4_col2\" class=\"data row4 col2\" >0.045</td> \n",
       "        <td id=\"T_be902738_c6cc_11e8_a8cc_08edb9e8792crow4_col3\" class=\"data row4 col3\" >0.16</td> \n",
       "        <td id=\"T_be902738_c6cc_11e8_a8cc_08edb9e8792crow4_col4\" class=\"data row4 col4\" >1</td> \n",
       "        <td id=\"T_be902738_c6cc_11e8_a8cc_08edb9e8792crow4_col5\" class=\"data row4 col5\" >0.18</td> \n",
       "        <td id=\"T_be902738_c6cc_11e8_a8cc_08edb9e8792crow4_col6\" class=\"data row4 col6\" >0.13</td> \n",
       "        <td id=\"T_be902738_c6cc_11e8_a8cc_08edb9e8792crow4_col7\" class=\"data row4 col7\" >0.097</td> \n",
       "        <td id=\"T_be902738_c6cc_11e8_a8cc_08edb9e8792crow4_col8\" class=\"data row4 col8\" >0.2</td> \n",
       "    </tr>    <tr> \n",
       "        <th id=\"T_be902738_c6cc_11e8_a8cc_08edb9e8792clevel0_row5\" class=\"row_heading level0 row5\" >BMI</th> \n",
       "        <td id=\"T_be902738_c6cc_11e8_a8cc_08edb9e8792crow5_col0\" class=\"data row5 col0\" >0.022</td> \n",
       "        <td id=\"T_be902738_c6cc_11e8_a8cc_08edb9e8792crow5_col1\" class=\"data row5 col1\" >0.23</td> \n",
       "        <td id=\"T_be902738_c6cc_11e8_a8cc_08edb9e8792crow5_col2\" class=\"data row5 col2\" >0.28</td> \n",
       "        <td id=\"T_be902738_c6cc_11e8_a8cc_08edb9e8792crow5_col3\" class=\"data row5 col3\" >0.54</td> \n",
       "        <td id=\"T_be902738_c6cc_11e8_a8cc_08edb9e8792crow5_col4\" class=\"data row5 col4\" >0.18</td> \n",
       "        <td id=\"T_be902738_c6cc_11e8_a8cc_08edb9e8792crow5_col5\" class=\"data row5 col5\" >1</td> \n",
       "        <td id=\"T_be902738_c6cc_11e8_a8cc_08edb9e8792crow5_col6\" class=\"data row5 col6\" >0.15</td> \n",
       "        <td id=\"T_be902738_c6cc_11e8_a8cc_08edb9e8792crow5_col7\" class=\"data row5 col7\" >0.026</td> \n",
       "        <td id=\"T_be902738_c6cc_11e8_a8cc_08edb9e8792crow5_col8\" class=\"data row5 col8\" >0.31</td> \n",
       "    </tr>    <tr> \n",
       "        <th id=\"T_be902738_c6cc_11e8_a8cc_08edb9e8792clevel0_row6\" class=\"row_heading level0 row6\" >DiabetesPedigreeFunction</th> \n",
       "        <td id=\"T_be902738_c6cc_11e8_a8cc_08edb9e8792crow6_col0\" class=\"data row6 col0\" >-0.034</td> \n",
       "        <td id=\"T_be902738_c6cc_11e8_a8cc_08edb9e8792crow6_col1\" class=\"data row6 col1\" >0.14</td> \n",
       "        <td id=\"T_be902738_c6cc_11e8_a8cc_08edb9e8792crow6_col2\" class=\"data row6 col2\" >-0.0028</td> \n",
       "        <td id=\"T_be902738_c6cc_11e8_a8cc_08edb9e8792crow6_col3\" class=\"data row6 col3\" >0.1</td> \n",
       "        <td id=\"T_be902738_c6cc_11e8_a8cc_08edb9e8792crow6_col4\" class=\"data row6 col4\" >0.13</td> \n",
       "        <td id=\"T_be902738_c6cc_11e8_a8cc_08edb9e8792crow6_col5\" class=\"data row6 col5\" >0.15</td> \n",
       "        <td id=\"T_be902738_c6cc_11e8_a8cc_08edb9e8792crow6_col6\" class=\"data row6 col6\" >1</td> \n",
       "        <td id=\"T_be902738_c6cc_11e8_a8cc_08edb9e8792crow6_col7\" class=\"data row6 col7\" >0.034</td> \n",
       "        <td id=\"T_be902738_c6cc_11e8_a8cc_08edb9e8792crow6_col8\" class=\"data row6 col8\" >0.17</td> \n",
       "    </tr>    <tr> \n",
       "        <th id=\"T_be902738_c6cc_11e8_a8cc_08edb9e8792clevel0_row7\" class=\"row_heading level0 row7\" >Age</th> \n",
       "        <td id=\"T_be902738_c6cc_11e8_a8cc_08edb9e8792crow7_col0\" class=\"data row7 col0\" >0.54</td> \n",
       "        <td id=\"T_be902738_c6cc_11e8_a8cc_08edb9e8792crow7_col1\" class=\"data row7 col1\" >0.27</td> \n",
       "        <td id=\"T_be902738_c6cc_11e8_a8cc_08edb9e8792crow7_col2\" class=\"data row7 col2\" >0.32</td> \n",
       "        <td id=\"T_be902738_c6cc_11e8_a8cc_08edb9e8792crow7_col3\" class=\"data row7 col3\" >0.13</td> \n",
       "        <td id=\"T_be902738_c6cc_11e8_a8cc_08edb9e8792crow7_col4\" class=\"data row7 col4\" >0.097</td> \n",
       "        <td id=\"T_be902738_c6cc_11e8_a8cc_08edb9e8792crow7_col5\" class=\"data row7 col5\" >0.026</td> \n",
       "        <td id=\"T_be902738_c6cc_11e8_a8cc_08edb9e8792crow7_col6\" class=\"data row7 col6\" >0.034</td> \n",
       "        <td id=\"T_be902738_c6cc_11e8_a8cc_08edb9e8792crow7_col7\" class=\"data row7 col7\" >1</td> \n",
       "        <td id=\"T_be902738_c6cc_11e8_a8cc_08edb9e8792crow7_col8\" class=\"data row7 col8\" >0.24</td> \n",
       "    </tr>    <tr> \n",
       "        <th id=\"T_be902738_c6cc_11e8_a8cc_08edb9e8792clevel0_row8\" class=\"row_heading level0 row8\" >Outcome</th> \n",
       "        <td id=\"T_be902738_c6cc_11e8_a8cc_08edb9e8792crow8_col0\" class=\"data row8 col0\" >0.22</td> \n",
       "        <td id=\"T_be902738_c6cc_11e8_a8cc_08edb9e8792crow8_col1\" class=\"data row8 col1\" >0.49</td> \n",
       "        <td id=\"T_be902738_c6cc_11e8_a8cc_08edb9e8792crow8_col2\" class=\"data row8 col2\" >0.17</td> \n",
       "        <td id=\"T_be902738_c6cc_11e8_a8cc_08edb9e8792crow8_col3\" class=\"data row8 col3\" >0.21</td> \n",
       "        <td id=\"T_be902738_c6cc_11e8_a8cc_08edb9e8792crow8_col4\" class=\"data row8 col4\" >0.2</td> \n",
       "        <td id=\"T_be902738_c6cc_11e8_a8cc_08edb9e8792crow8_col5\" class=\"data row8 col5\" >0.31</td> \n",
       "        <td id=\"T_be902738_c6cc_11e8_a8cc_08edb9e8792crow8_col6\" class=\"data row8 col6\" >0.17</td> \n",
       "        <td id=\"T_be902738_c6cc_11e8_a8cc_08edb9e8792crow8_col7\" class=\"data row8 col7\" >0.24</td> \n",
       "        <td id=\"T_be902738_c6cc_11e8_a8cc_08edb9e8792crow8_col8\" class=\"data row8 col8\" >1</td> \n",
       "    </tr></tbody> \n",
       "</table> "
      ],
      "text/plain": [
       "<pandas.io.formats.style.Styler at 0xb040ac8>"
      ]
     },
     "execution_count": 18,
     "metadata": {},
     "output_type": "execute_result"
    }
   ],
   "source": [
    "corr = dataset.corr()\n",
    "corr.style.background_gradient().set_precision(2)"
   ]
  },
  {
   "cell_type": "code",
   "execution_count": 19,
   "metadata": {},
   "outputs": [
    {
     "data": {
      "text/plain": [
       "<seaborn.axisgrid.FacetGrid at 0xb639f28>"
      ]
     },
     "execution_count": 19,
     "metadata": {},
     "output_type": "execute_result"
    },
    {
     "data": {
      "image/png": "[encoded data removed]",
      "text/plain": [
       "<Figure size 432x216 with 2 Axes>"
      ]
     },
     "metadata": {},
     "output_type": "display_data"
    }
   ],
   "source": [
    "g = sns.FacetGrid(dataset,col = 'Outcome')\n",
    "g.map(plt.hist,'Glucose',bins= 30)"
   ]
  },
  {
   "cell_type": "code",
   "execution_count": 20,
   "metadata": {},
   "outputs": [
    {
     "name": "stdout",
     "output_type": "stream",
     "text": [
      "Average pregnancies rate for positive class: 4.865671641791045\n",
      "Average pregnancies rate for negative class: 3.298\n"
     ]
    }
   ],
   "source": [
    "print('Average pregnancies rate for positive class: '+str(dataset[dataset['Outcome']==1]['Pregnancies'].mean()))\n",
    "print('Average pregnancies rate for negative class: '+str(dataset[dataset['Outcome']==0]['Pregnancies'].mean()))"
   ]
  },
  {
   "cell_type": "code",
   "execution_count": 21,
   "metadata": {},
   "outputs": [
    {
     "name": "stdout",
     "output_type": "stream",
     "text": [
      "Average Glucose level for positive class: 142.16557285655603\n",
      "Average Glucose level for negative class: 110.71012057667103\n"
     ]
    }
   ],
   "source": [
    "print('Average Glucose level for positive class: '+str(dataset[dataset['Outcome']==1]['Glucose'].mean()))\n",
    "print('Average Glucose level for negative class: '+str(dataset[dataset['Outcome']==0]['Glucose'].mean()))"
   ]
  },
  {
   "cell_type": "code",
   "execution_count": 22,
   "metadata": {},
   "outputs": [
    {
     "name": "stdout",
     "output_type": "stream",
     "text": [
      "Average BloodPressure rate for positive class: 75.14732442833579\n",
      "Average BloodPressure rate for negative class: 70.93539699863577\n"
     ]
    }
   ],
   "source": [
    "print('Average BloodPressure rate for positive class: '+str(dataset[dataset['Outcome']==1]['BloodPressure'].mean()))\n",
    "print('Average BloodPressure rate for negative class: '+str(dataset[dataset['Outcome']==0]['BloodPressure'].mean()))"
   ]
  },
  {
   "cell_type": "code",
   "execution_count": 23,
   "metadata": {},
   "outputs": [
    {
     "name": "stdout",
     "output_type": "stream",
     "text": [
      "Average SkinThickness for positive class: 31.686567164179106\n",
      "Average SkinThickness for negative class: 27.726\n"
     ]
    }
   ],
   "source": [
    "print('Average SkinThickness for positive class: '+str(dataset[dataset['Outcome']==1]['SkinThickness'].mean()))\n",
    "print('Average SkinThickness for negative class: '+str(dataset[dataset['Outcome']==0]['SkinThickness'].mean()))"
   ]
  },
  {
   "cell_type": "code",
   "execution_count": 24,
   "metadata": {},
   "outputs": [
    {
     "name": "stdout",
     "output_type": "stream",
     "text": [
      "Average Insulin rate for positive class: 164.70149253731344\n",
      "Average Insulin rate for negative class: 127.792\n"
     ]
    }
   ],
   "source": [
    "print('Average Insulin rate for positive class: '+str(dataset[dataset['Outcome']==1]['Insulin'].mean()))\n",
    "print('Average Insulin rate for negative class: '+str(dataset[dataset['Outcome']==0]['Insulin'].mean()))"
   ]
  },
  {
   "cell_type": "code",
   "execution_count": 25,
   "metadata": {},
   "outputs": [
    {
     "name": "stdout",
     "output_type": "stream",
     "text": [
      "Average BMI rate for positive class: 35.38475719158496\n",
      "Average BMI rate for negative class: 30.888434346103004\n"
     ]
    }
   ],
   "source": [
    "print('Average BMI rate for positive class: '+str(dataset[dataset['Outcome']==1]['BMI'].mean()))\n",
    "print('Average BMI rate for negative class: '+str(dataset[dataset['Outcome']==0]['BMI'].mean()))"
   ]
  },
  {
   "cell_type": "code",
   "execution_count": 26,
   "metadata": {},
   "outputs": [
    {
     "name": "stdout",
     "output_type": "stream",
     "text": [
      "Average DiabetesPedigreeFunction for positive class: 0.5505\n",
      "Average DiabetesPedigreeFunction for negative class: 0.42973400000000017\n"
     ]
    }
   ],
   "source": [
    "print('Average DiabetesPedigreeFunction for positive class: '+str(dataset[dataset['Outcome']==1]['DiabetesPedigreeFunction'].mean()))\n",
    "print('Average DiabetesPedigreeFunction for negative class: '+str(dataset[dataset['Outcome']==0]['DiabetesPedigreeFunction'].mean()))"
   ]
  },
  {
   "cell_type": "code",
   "execution_count": 27,
   "metadata": {},
   "outputs": [
    {
     "name": "stdout",
     "output_type": "stream",
     "text": [
      "Average Age for positive class: 37.06716417910448\n",
      "Average Age for negative class: 31.19\n"
     ]
    }
   ],
   "source": [
    "print('Average Age for positive class: '+str(dataset[dataset['Outcome']==1]['Age'].mean()))\n",
    "print('Average Age for negative class: '+str(dataset[dataset['Outcome']==0]['Age'].mean()))"
   ]
  },
  {
   "cell_type": "markdown",
   "metadata": {},
   "source": [
    "# Data Modelling"
   ]
  },
  {
   "cell_type": "code",
   "execution_count": 28,
   "metadata": {},
   "outputs": [],
   "source": [
    "X = dataset.drop(['Outcome'],axis =1)\n",
    "y = dataset['Outcome']"
   ]
  },
  {
   "cell_type": "code",
   "execution_count": 29,
   "metadata": {},
   "outputs": [],
   "source": [
    "from sklearn.model_selection import train_test_split\n",
    "X_train,X_test,y_train,y_test = train_test_split(X,y,random_state = 0)"
   ]
  },
  {
   "cell_type": "code",
   "execution_count": 30,
   "metadata": {},
   "outputs": [],
   "source": [
    "from sklearn.preprocessing import StandardScaler\n",
    "sc = StandardScaler()\n",
    "X_train_scaled = sc.fit_transform(X_train)\n",
    "X_test_scaled = sc.transform(X_test)"
   ]
  },
  {
   "cell_type": "code",
   "execution_count": 31,
   "metadata": {},
   "outputs": [
    {
     "data": {
      "text/plain": [
       "0.5442708333333334"
      ]
     },
     "execution_count": 31,
     "metadata": {},
     "output_type": "execute_result"
    }
   ],
   "source": [
    "#Dummy Classifier\n",
    "from sklearn.dummy import DummyClassifier\n",
    "dummy = DummyClassifier().fit(X,y)\n",
    "dummy.score(X,y)"
   ]
  },
  {
   "cell_type": "code",
   "execution_count": 32,
   "metadata": {},
   "outputs": [],
   "source": [
    "from sklearn.linear_model import LogisticRegression\n",
    "from sklearn.svm import SVC\n",
    "from sklearn.discriminant_analysis import LinearDiscriminantAnalysis\n",
    "from sklearn.naive_bayes import GaussianNB\n",
    "from sklearn.neighbors import KNeighborsClassifier\n",
    "from sklearn.tree import DecisionTreeClassifier\n",
    "from sklearn.ensemble import RandomForestClassifier\n",
    "from sklearn.ensemble import AdaBoostClassifier\n",
    "from xgboost import XGBClassifier\n",
    "from sklearn.model_selection import KFold,cross_val_score\n",
    "from sklearn.metrics import confusion_matrix,roc_auc_score,accuracy_score"
   ]
  },
  {
   "cell_type": "code",
   "execution_count": 33,
   "metadata": {},
   "outputs": [],
   "source": [
    "#Let's model  uncleaned data to compare results\n",
    "Xu = dataset_copy.drop(['Outcome'],axis = 1)\n",
    "yu = dataset_copy['Outcome']"
   ]
  },
  {
   "cell_type": "code",
   "execution_count": 34,
   "metadata": {},
   "outputs": [
    {
     "name": "stdout",
     "output_type": "stream",
     "text": [
      "Algorithm: LR\n",
      "ROC score: 0.823716379293716\n",
      "------------------------------------------------------------\n",
      "Algorithm: SVM\n",
      "ROC score: 0.6511881577591094\n",
      "------------------------------------------------------------\n",
      "Algorithm: LDA\n",
      "ROC score: 0.8286674580537227\n",
      "------------------------------------------------------------\n",
      "Algorithm: NB\n",
      "ROC score: 0.8183362056817245\n",
      "------------------------------------------------------------\n",
      "Algorithm: KNN\n",
      "ROC score: 0.7520031872613351\n",
      "------------------------------------------------------------\n",
      "Algorithm: CART\n",
      "ROC score: 0.6542954232380651\n",
      "------------------------------------------------------------\n",
      "Algorithm: RF\n",
      "ROC score: 0.7954581578051821\n",
      "------------------------------------------------------------\n",
      "Algorithm: AB\n",
      "ROC score: 0.8175024937690673\n",
      "------------------------------------------------------------\n",
      "Algorithm: XGB\n",
      "ROC score: 0.8292925408584588\n",
      "------------------------------------------------------------\n"
     ]
    }
   ],
   "source": [
    "#Modelling\n",
    "scoring = 'roc_auc'\n",
    "models = []\n",
    "models.append(('LR',LogisticRegression()))\n",
    "models.append(('SVM',SVC()))\n",
    "models.append(('LDA',LinearDiscriminantAnalysis()))\n",
    "models.append(('NB',GaussianNB()))\n",
    "models.append(('KNN',KNeighborsClassifier()))\n",
    "models.append(('CART',DecisionTreeClassifier()))\n",
    "models.append(('RF',RandomForestClassifier()))\n",
    "models.append(('AB',AdaBoostClassifier()))\n",
    "models.append(('XGB',XGBClassifier()))\n",
    "\n",
    "for name,model in models:\n",
    "    kfold = KFold(random_state = 0,n_splits = 10)\n",
    "    cv = cross_val_score(model,Xu,yu,scoring = scoring,cv = kfold)\n",
    "    print('Algorithm: '+str(name))\n",
    "    print('ROC score: '+str(cv.mean()))\n",
    "    print('--'*30)"
   ]
  },
  {
   "cell_type": "code",
   "execution_count": 35,
   "metadata": {},
   "outputs": [
    {
     "name": "stdout",
     "output_type": "stream",
     "text": [
      "Algorithm: LR\n",
      "ROC score: 0.8274823734847342\n",
      "------------------------------------------------------------\n",
      "Algorithm: SVM\n",
      "ROC score: 0.6819594062222089\n",
      "------------------------------------------------------------\n",
      "Algorithm: LDA\n",
      "ROC score: 0.8369044884535608\n",
      "------------------------------------------------------------\n",
      "Algorithm: NB\n",
      "ROC score: 0.8168511658941806\n",
      "------------------------------------------------------------\n",
      "Algorithm: KNN\n",
      "ROC score: 0.7683671235623712\n",
      "------------------------------------------------------------\n",
      "Algorithm: CART\n",
      "ROC score: 0.6523475300380671\n",
      "------------------------------------------------------------\n",
      "Algorithm: RF\n",
      "ROC score: 0.7841028554515972\n",
      "------------------------------------------------------------\n",
      "Algorithm: AB\n",
      "ROC score: 0.8141773547987489\n",
      "------------------------------------------------------------\n",
      "Algorithm: XGB\n",
      "ROC score: 0.8298271597390453\n",
      "------------------------------------------------------------\n"
     ]
    }
   ],
   "source": [
    "#Now let's model the cleaned datas\n",
    "scoring = 'roc_auc'\n",
    "models = []\n",
    "models.append(('LR',LogisticRegression()))\n",
    "models.append(('SVM',SVC()))\n",
    "models.append(('LDA',LinearDiscriminantAnalysis()))\n",
    "models.append(('NB',GaussianNB()))\n",
    "models.append(('KNN',KNeighborsClassifier()))\n",
    "models.append(('CART',DecisionTreeClassifier()))\n",
    "models.append(('RF',RandomForestClassifier()))\n",
    "models.append(('AB',AdaBoostClassifier()))\n",
    "models.append(('XGB',XGBClassifier()))\n",
    "\n",
    "for name,model in models:\n",
    "    kfold = KFold(random_state = 0,n_splits = 10)\n",
    "    cv = cross_val_score(model,X,y,scoring = scoring,cv = kfold)\n",
    "    print('Algorithm: '+str(name))\n",
    "    print('ROC score: '+str(cv.mean()))\n",
    "    print('--'*30)"
   ]
  },
  {
   "cell_type": "code",
   "execution_count": 36,
   "metadata": {},
   "outputs": [
    {
     "name": "stdout",
     "output_type": "stream",
     "text": [
      "ROC Score: 0.732258064516129\n",
      "Recall Score: 0.5645161290322581\n",
      "Precision Score: 0.7291666666666666\n",
      "Specificity/TNR: 0.9\n"
     ]
    }
   ],
   "source": [
    "#Logistic Regression\n",
    "logistic = LogisticRegression().fit(X_train_scaled,y_train)\n",
    "ypred_logistic = logistic.predict(X_test_scaled)\n",
    "cm = confusion_matrix(y_test,ypred_logistic)\n",
    "TP = cm[1,1]\n",
    "TN = cm[0,0]\n",
    "FP = cm[0,1]\n",
    "FN = cm[1,0]\n",
    "\n",
    "print('ROC Score: {}'.format(roc_auc_score(y_test,ypred_logistic)))\n",
    "print('Recall Score: {}'.format(TP/(TP+FN)))\n",
    "print('Precision Score: {}'.format(TP/(TP+FP)))\n",
    "print('Specificity/TNR: {}'.format(TN/(TN+FP)))\n"
   ]
  },
  {
   "cell_type": "code",
   "execution_count": 37,
   "metadata": {},
   "outputs": [
    {
     "name": "stdout",
     "output_type": "stream",
     "text": [
      "ROC Score: 0.7241935483870968\n",
      "Recall Score: 0.5483870967741935\n",
      "Precision Score: 0.723404255319149\n",
      "Specificity/TNR: 0.9\n"
     ]
    }
   ],
   "source": [
    "#Linear Discriminant Analysis\n",
    "logistic = LinearDiscriminantAnalysis().fit(X_train_scaled,y_train)\n",
    "ypred_lda = logistic.predict(X_test_scaled)\n",
    "cm = confusion_matrix(y_test,ypred_lda)\n",
    "TP = cm[1,1]\n",
    "TN = cm[0,0]\n",
    "FP = cm[0,1]\n",
    "FN = cm[1,0]\n",
    "\n",
    "print('ROC Score: {}'.format(roc_auc_score(y_test,ypred_lda)))\n",
    "print('Recall Score: {}'.format(TP/(TP+FN)))\n",
    "print('Precision Score: {}'.format(TP/(TP+FP)))\n",
    "print('Specificity/TNR: {}'.format(TN/(TN+FP)))\n"
   ]
  },
  {
   "cell_type": "code",
   "execution_count": 38,
   "metadata": {},
   "outputs": [
    {
     "name": "stdout",
     "output_type": "stream",
     "text": [
      "ROC Score: 0.7890818858560793\n",
      "Recall Score: 0.6935483870967742\n",
      "Precision Score: 0.7413793103448276\n",
      "Specificity/TNR: 0.8846153846153846\n"
     ]
    },
    {
     "name": "stderr",
     "output_type": "stream",
     "text": [
      "C:\\Users\\User\\Anaconda3\\lib\\site-packages\\sklearn\\preprocessing\\label.py:151: DeprecationWarning: The truth value of an empty array is ambiguous. Returning False, but in future this will result in an error. Use `array.size > 0` to check that an array is not empty.\n",
      "  if diff:\n"
     ]
    }
   ],
   "source": [
    "#XGBoost\n",
    "logistic = XGBClassifier().fit(X_train,y_train)\n",
    "ypred_xgb = logistic.predict(X_test)\n",
    "cm = confusion_matrix(y_test,ypred_xgb)\n",
    "TP = cm[1,1]\n",
    "TN = cm[0,0]\n",
    "FP = cm[0,1]\n",
    "FN = cm[1,0]\n",
    "\n",
    "print('ROC Score: {}'.format(roc_auc_score(y_test,ypred_xgb)))\n",
    "print('Recall Score: {}'.format(TP/(TP+FN)))\n",
    "print('Precision Score: {}'.format(TP/(TP+FP)))\n",
    "print('Specificity/TNR: {}'.format(TN/(TN+FP)))\n"
   ]
  },
  {
   "cell_type": "code",
   "execution_count": 39,
   "metadata": {},
   "outputs": [
    {
     "name": "stderr",
     "output_type": "stream",
     "text": [
      "C:\\Users\\User\\Anaconda3\\lib\\site-packages\\sklearn\\linear_model\\logistic.py:1228: UserWarning: 'n_jobs' > 1 does not have any effect when 'solver' is set to 'liblinear'. Got 'n_jobs' = -1.\n",
      "  \" = {}.\".format(self.n_jobs))\n",
      "C:\\Users\\User\\Anaconda3\\lib\\site-packages\\sklearn\\linear_model\\logistic.py:1228: UserWarning: 'n_jobs' > 1 does not have any effect when 'solver' is set to 'liblinear'. Got 'n_jobs' = -1.\n",
      "  \" = {}.\".format(self.n_jobs))\n",
      "C:\\Users\\User\\Anaconda3\\lib\\site-packages\\sklearn\\linear_model\\logistic.py:1228: UserWarning: 'n_jobs' > 1 does not have any effect when 'solver' is set to 'liblinear'. Got 'n_jobs' = -1.\n",
      "  \" = {}.\".format(self.n_jobs))\n",
      "C:\\Users\\User\\Anaconda3\\lib\\site-packages\\sklearn\\linear_model\\logistic.py:1228: UserWarning: 'n_jobs' > 1 does not have any effect when 'solver' is set to 'liblinear'. Got 'n_jobs' = -1.\n",
      "  \" = {}.\".format(self.n_jobs))\n",
      "C:\\Users\\User\\Anaconda3\\lib\\site-packages\\sklearn\\linear_model\\logistic.py:1228: UserWarning: 'n_jobs' > 1 does not have any effect when 'solver' is set to 'liblinear'. Got 'n_jobs' = -1.\n",
      "  \" = {}.\".format(self.n_jobs))\n",
      "C:\\Users\\User\\Anaconda3\\lib\\site-packages\\sklearn\\linear_model\\logistic.py:1228: UserWarning: 'n_jobs' > 1 does not have any effect when 'solver' is set to 'liblinear'. Got 'n_jobs' = -1.\n",
      "  \" = {}.\".format(self.n_jobs))\n",
      "C:\\Users\\User\\Anaconda3\\lib\\site-packages\\sklearn\\linear_model\\logistic.py:1228: UserWarning: 'n_jobs' > 1 does not have any effect when 'solver' is set to 'liblinear'. Got 'n_jobs' = -1.\n",
      "  \" = {}.\".format(self.n_jobs))\n",
      "C:\\Users\\User\\Anaconda3\\lib\\site-packages\\sklearn\\linear_model\\logistic.py:1228: UserWarning: 'n_jobs' > 1 does not have any effect when 'solver' is set to 'liblinear'. Got 'n_jobs' = -1.\n",
      "  \" = {}.\".format(self.n_jobs))\n",
      "C:\\Users\\User\\Anaconda3\\lib\\site-packages\\sklearn\\linear_model\\logistic.py:1228: UserWarning: 'n_jobs' > 1 does not have any effect when 'solver' is set to 'liblinear'. Got 'n_jobs' = -1.\n",
      "  \" = {}.\".format(self.n_jobs))\n",
      "C:\\Users\\User\\Anaconda3\\lib\\site-packages\\sklearn\\linear_model\\logistic.py:1228: UserWarning: 'n_jobs' > 1 does not have any effect when 'solver' is set to 'liblinear'. Got 'n_jobs' = -1.\n",
      "  \" = {}.\".format(self.n_jobs))\n",
      "C:\\Users\\User\\Anaconda3\\lib\\site-packages\\sklearn\\linear_model\\logistic.py:1228: UserWarning: 'n_jobs' > 1 does not have any effect when 'solver' is set to 'liblinear'. Got 'n_jobs' = -1.\n",
      "  \" = {}.\".format(self.n_jobs))\n",
      "C:\\Users\\User\\Anaconda3\\lib\\site-packages\\sklearn\\linear_model\\logistic.py:1228: UserWarning: 'n_jobs' > 1 does not have any effect when 'solver' is set to 'liblinear'. Got 'n_jobs' = -1.\n",
      "  \" = {}.\".format(self.n_jobs))\n",
      "C:\\Users\\User\\Anaconda3\\lib\\site-packages\\sklearn\\linear_model\\logistic.py:1228: UserWarning: 'n_jobs' > 1 does not have any effect when 'solver' is set to 'liblinear'. Got 'n_jobs' = -1.\n",
      "  \" = {}.\".format(self.n_jobs))\n",
      "C:\\Users\\User\\Anaconda3\\lib\\site-packages\\sklearn\\linear_model\\logistic.py:1228: UserWarning: 'n_jobs' > 1 does not have any effect when 'solver' is set to 'liblinear'. Got 'n_jobs' = -1.\n",
      "  \" = {}.\".format(self.n_jobs))\n",
      "C:\\Users\\User\\Anaconda3\\lib\\site-packages\\sklearn\\linear_model\\logistic.py:1228: UserWarning: 'n_jobs' > 1 does not have any effect when 'solver' is set to 'liblinear'. Got 'n_jobs' = -1.\n",
      "  \" = {}.\".format(self.n_jobs))\n",
      "C:\\Users\\User\\Anaconda3\\lib\\site-packages\\sklearn\\linear_model\\logistic.py:1228: UserWarning: 'n_jobs' > 1 does not have any effect when 'solver' is set to 'liblinear'. Got 'n_jobs' = -1.\n",
      "  \" = {}.\".format(self.n_jobs))\n",
      "C:\\Users\\User\\Anaconda3\\lib\\site-packages\\sklearn\\linear_model\\logistic.py:1228: UserWarning: 'n_jobs' > 1 does not have any effect when 'solver' is set to 'liblinear'. Got 'n_jobs' = -1.\n",
      "  \" = {}.\".format(self.n_jobs))\n",
      "C:\\Users\\User\\Anaconda3\\lib\\site-packages\\sklearn\\linear_model\\logistic.py:1228: UserWarning: 'n_jobs' > 1 does not have any effect when 'solver' is set to 'liblinear'. Got 'n_jobs' = -1.\n",
      "  \" = {}.\".format(self.n_jobs))\n",
      "C:\\Users\\User\\Anaconda3\\lib\\site-packages\\sklearn\\linear_model\\logistic.py:1228: UserWarning: 'n_jobs' > 1 does not have any effect when 'solver' is set to 'liblinear'. Got 'n_jobs' = -1.\n",
      "  \" = {}.\".format(self.n_jobs))\n",
      "C:\\Users\\User\\Anaconda3\\lib\\site-packages\\sklearn\\linear_model\\logistic.py:1228: UserWarning: 'n_jobs' > 1 does not have any effect when 'solver' is set to 'liblinear'. Got 'n_jobs' = -1.\n",
      "  \" = {}.\".format(self.n_jobs))\n",
      "C:\\Users\\User\\Anaconda3\\lib\\site-packages\\sklearn\\linear_model\\logistic.py:1228: UserWarning: 'n_jobs' > 1 does not have any effect when 'solver' is set to 'liblinear'. Got 'n_jobs' = -1.\n",
      "  \" = {}.\".format(self.n_jobs))\n",
      "C:\\Users\\User\\Anaconda3\\lib\\site-packages\\sklearn\\linear_model\\logistic.py:1228: UserWarning: 'n_jobs' > 1 does not have any effect when 'solver' is set to 'liblinear'. Got 'n_jobs' = -1.\n",
      "  \" = {}.\".format(self.n_jobs))\n",
      "C:\\Users\\User\\Anaconda3\\lib\\site-packages\\sklearn\\linear_model\\logistic.py:1228: UserWarning: 'n_jobs' > 1 does not have any effect when 'solver' is set to 'liblinear'. Got 'n_jobs' = -1.\n",
      "  \" = {}.\".format(self.n_jobs))\n",
      "C:\\Users\\User\\Anaconda3\\lib\\site-packages\\sklearn\\linear_model\\logistic.py:1228: UserWarning: 'n_jobs' > 1 does not have any effect when 'solver' is set to 'liblinear'. Got 'n_jobs' = -1.\n",
      "  \" = {}.\".format(self.n_jobs))\n",
      "C:\\Users\\User\\Anaconda3\\lib\\site-packages\\sklearn\\linear_model\\logistic.py:1228: UserWarning: 'n_jobs' > 1 does not have any effect when 'solver' is set to 'liblinear'. Got 'n_jobs' = -1.\n",
      "  \" = {}.\".format(self.n_jobs))\n",
      "C:\\Users\\User\\Anaconda3\\lib\\site-packages\\sklearn\\linear_model\\logistic.py:1228: UserWarning: 'n_jobs' > 1 does not have any effect when 'solver' is set to 'liblinear'. Got 'n_jobs' = -1.\n",
      "  \" = {}.\".format(self.n_jobs))\n",
      "C:\\Users\\User\\Anaconda3\\lib\\site-packages\\sklearn\\linear_model\\logistic.py:1228: UserWarning: 'n_jobs' > 1 does not have any effect when 'solver' is set to 'liblinear'. Got 'n_jobs' = -1.\n",
      "  \" = {}.\".format(self.n_jobs))\n",
      "C:\\Users\\User\\Anaconda3\\lib\\site-packages\\sklearn\\linear_model\\logistic.py:1228: UserWarning: 'n_jobs' > 1 does not have any effect when 'solver' is set to 'liblinear'. Got 'n_jobs' = -1.\n",
      "  \" = {}.\".format(self.n_jobs))\n",
      "C:\\Users\\User\\Anaconda3\\lib\\site-packages\\sklearn\\linear_model\\logistic.py:1228: UserWarning: 'n_jobs' > 1 does not have any effect when 'solver' is set to 'liblinear'. Got 'n_jobs' = -1.\n",
      "  \" = {}.\".format(self.n_jobs))\n",
      "C:\\Users\\User\\Anaconda3\\lib\\site-packages\\sklearn\\linear_model\\logistic.py:1228: UserWarning: 'n_jobs' > 1 does not have any effect when 'solver' is set to 'liblinear'. Got 'n_jobs' = -1.\n",
      "  \" = {}.\".format(self.n_jobs))\n",
      "C:\\Users\\User\\Anaconda3\\lib\\site-packages\\sklearn\\linear_model\\logistic.py:1228: UserWarning: 'n_jobs' > 1 does not have any effect when 'solver' is set to 'liblinear'. Got 'n_jobs' = -1.\n",
      "  \" = {}.\".format(self.n_jobs))\n",
      "C:\\Users\\User\\Anaconda3\\lib\\site-packages\\sklearn\\linear_model\\logistic.py:1228: UserWarning: 'n_jobs' > 1 does not have any effect when 'solver' is set to 'liblinear'. Got 'n_jobs' = -1.\n",
      "  \" = {}.\".format(self.n_jobs))\n",
      "C:\\Users\\User\\Anaconda3\\lib\\site-packages\\sklearn\\linear_model\\logistic.py:1228: UserWarning: 'n_jobs' > 1 does not have any effect when 'solver' is set to 'liblinear'. Got 'n_jobs' = -1.\n",
      "  \" = {}.\".format(self.n_jobs))\n",
      "C:\\Users\\User\\Anaconda3\\lib\\site-packages\\sklearn\\linear_model\\logistic.py:1228: UserWarning: 'n_jobs' > 1 does not have any effect when 'solver' is set to 'liblinear'. Got 'n_jobs' = -1.\n",
      "  \" = {}.\".format(self.n_jobs))\n",
      "C:\\Users\\User\\Anaconda3\\lib\\site-packages\\sklearn\\linear_model\\logistic.py:1228: UserWarning: 'n_jobs' > 1 does not have any effect when 'solver' is set to 'liblinear'. Got 'n_jobs' = -1.\n",
      "  \" = {}.\".format(self.n_jobs))\n",
      "C:\\Users\\User\\Anaconda3\\lib\\site-packages\\sklearn\\linear_model\\logistic.py:1228: UserWarning: 'n_jobs' > 1 does not have any effect when 'solver' is set to 'liblinear'. Got 'n_jobs' = -1.\n",
      "  \" = {}.\".format(self.n_jobs))\n",
      "C:\\Users\\User\\Anaconda3\\lib\\site-packages\\sklearn\\linear_model\\logistic.py:1228: UserWarning: 'n_jobs' > 1 does not have any effect when 'solver' is set to 'liblinear'. Got 'n_jobs' = -1.\n",
      "  \" = {}.\".format(self.n_jobs))\n",
      "C:\\Users\\User\\Anaconda3\\lib\\site-packages\\sklearn\\linear_model\\logistic.py:1228: UserWarning: 'n_jobs' > 1 does not have any effect when 'solver' is set to 'liblinear'. Got 'n_jobs' = -1.\n",
      "  \" = {}.\".format(self.n_jobs))\n",
      "C:\\Users\\User\\Anaconda3\\lib\\site-packages\\sklearn\\linear_model\\logistic.py:1228: UserWarning: 'n_jobs' > 1 does not have any effect when 'solver' is set to 'liblinear'. Got 'n_jobs' = -1.\n",
      "  \" = {}.\".format(self.n_jobs))\n",
      "C:\\Users\\User\\Anaconda3\\lib\\site-packages\\sklearn\\linear_model\\logistic.py:1228: UserWarning: 'n_jobs' > 1 does not have any effect when 'solver' is set to 'liblinear'. Got 'n_jobs' = -1.\n",
      "  \" = {}.\".format(self.n_jobs))\n"
     ]
    },
    {
     "name": "stderr",
     "output_type": "stream",
     "text": [
      "C:\\Users\\User\\Anaconda3\\lib\\site-packages\\sklearn\\linear_model\\logistic.py:1228: UserWarning: 'n_jobs' > 1 does not have any effect when 'solver' is set to 'liblinear'. Got 'n_jobs' = -1.\n",
      "  \" = {}.\".format(self.n_jobs))\n",
      "C:\\Users\\User\\Anaconda3\\lib\\site-packages\\sklearn\\linear_model\\logistic.py:1228: UserWarning: 'n_jobs' > 1 does not have any effect when 'solver' is set to 'liblinear'. Got 'n_jobs' = -1.\n",
      "  \" = {}.\".format(self.n_jobs))\n",
      "C:\\Users\\User\\Anaconda3\\lib\\site-packages\\sklearn\\linear_model\\logistic.py:1228: UserWarning: 'n_jobs' > 1 does not have any effect when 'solver' is set to 'liblinear'. Got 'n_jobs' = -1.\n",
      "  \" = {}.\".format(self.n_jobs))\n",
      "C:\\Users\\User\\Anaconda3\\lib\\site-packages\\sklearn\\linear_model\\logistic.py:1228: UserWarning: 'n_jobs' > 1 does not have any effect when 'solver' is set to 'liblinear'. Got 'n_jobs' = -1.\n",
      "  \" = {}.\".format(self.n_jobs))\n",
      "C:\\Users\\User\\Anaconda3\\lib\\site-packages\\sklearn\\linear_model\\logistic.py:1228: UserWarning: 'n_jobs' > 1 does not have any effect when 'solver' is set to 'liblinear'. Got 'n_jobs' = -1.\n",
      "  \" = {}.\".format(self.n_jobs))\n",
      "C:\\Users\\User\\Anaconda3\\lib\\site-packages\\sklearn\\linear_model\\logistic.py:1228: UserWarning: 'n_jobs' > 1 does not have any effect when 'solver' is set to 'liblinear'. Got 'n_jobs' = -1.\n",
      "  \" = {}.\".format(self.n_jobs))\n",
      "C:\\Users\\User\\Anaconda3\\lib\\site-packages\\sklearn\\linear_model\\logistic.py:1228: UserWarning: 'n_jobs' > 1 does not have any effect when 'solver' is set to 'liblinear'. Got 'n_jobs' = -1.\n",
      "  \" = {}.\".format(self.n_jobs))\n",
      "C:\\Users\\User\\Anaconda3\\lib\\site-packages\\sklearn\\linear_model\\logistic.py:1228: UserWarning: 'n_jobs' > 1 does not have any effect when 'solver' is set to 'liblinear'. Got 'n_jobs' = -1.\n",
      "  \" = {}.\".format(self.n_jobs))\n",
      "C:\\Users\\User\\Anaconda3\\lib\\site-packages\\sklearn\\linear_model\\logistic.py:1228: UserWarning: 'n_jobs' > 1 does not have any effect when 'solver' is set to 'liblinear'. Got 'n_jobs' = -1.\n",
      "  \" = {}.\".format(self.n_jobs))\n",
      "C:\\Users\\User\\Anaconda3\\lib\\site-packages\\sklearn\\linear_model\\logistic.py:1228: UserWarning: 'n_jobs' > 1 does not have any effect when 'solver' is set to 'liblinear'. Got 'n_jobs' = -1.\n",
      "  \" = {}.\".format(self.n_jobs))\n",
      "C:\\Users\\User\\Anaconda3\\lib\\site-packages\\sklearn\\linear_model\\logistic.py:1228: UserWarning: 'n_jobs' > 1 does not have any effect when 'solver' is set to 'liblinear'. Got 'n_jobs' = -1.\n",
      "  \" = {}.\".format(self.n_jobs))\n",
      "C:\\Users\\User\\Anaconda3\\lib\\site-packages\\sklearn\\linear_model\\logistic.py:1228: UserWarning: 'n_jobs' > 1 does not have any effect when 'solver' is set to 'liblinear'. Got 'n_jobs' = -1.\n",
      "  \" = {}.\".format(self.n_jobs))\n",
      "C:\\Users\\User\\Anaconda3\\lib\\site-packages\\sklearn\\linear_model\\logistic.py:1228: UserWarning: 'n_jobs' > 1 does not have any effect when 'solver' is set to 'liblinear'. Got 'n_jobs' = -1.\n",
      "  \" = {}.\".format(self.n_jobs))\n",
      "C:\\Users\\User\\Anaconda3\\lib\\site-packages\\sklearn\\linear_model\\logistic.py:1228: UserWarning: 'n_jobs' > 1 does not have any effect when 'solver' is set to 'liblinear'. Got 'n_jobs' = -1.\n",
      "  \" = {}.\".format(self.n_jobs))\n",
      "C:\\Users\\User\\Anaconda3\\lib\\site-packages\\sklearn\\linear_model\\logistic.py:1228: UserWarning: 'n_jobs' > 1 does not have any effect when 'solver' is set to 'liblinear'. Got 'n_jobs' = -1.\n",
      "  \" = {}.\".format(self.n_jobs))\n",
      "C:\\Users\\User\\Anaconda3\\lib\\site-packages\\sklearn\\linear_model\\logistic.py:1228: UserWarning: 'n_jobs' > 1 does not have any effect when 'solver' is set to 'liblinear'. Got 'n_jobs' = -1.\n",
      "  \" = {}.\".format(self.n_jobs))\n",
      "C:\\Users\\User\\Anaconda3\\lib\\site-packages\\sklearn\\linear_model\\logistic.py:1228: UserWarning: 'n_jobs' > 1 does not have any effect when 'solver' is set to 'liblinear'. Got 'n_jobs' = -1.\n",
      "  \" = {}.\".format(self.n_jobs))\n",
      "C:\\Users\\User\\Anaconda3\\lib\\site-packages\\sklearn\\linear_model\\logistic.py:1228: UserWarning: 'n_jobs' > 1 does not have any effect when 'solver' is set to 'liblinear'. Got 'n_jobs' = -1.\n",
      "  \" = {}.\".format(self.n_jobs))\n",
      "C:\\Users\\User\\Anaconda3\\lib\\site-packages\\sklearn\\linear_model\\logistic.py:1228: UserWarning: 'n_jobs' > 1 does not have any effect when 'solver' is set to 'liblinear'. Got 'n_jobs' = -1.\n",
      "  \" = {}.\".format(self.n_jobs))\n",
      "C:\\Users\\User\\Anaconda3\\lib\\site-packages\\sklearn\\linear_model\\logistic.py:1228: UserWarning: 'n_jobs' > 1 does not have any effect when 'solver' is set to 'liblinear'. Got 'n_jobs' = -1.\n",
      "  \" = {}.\".format(self.n_jobs))\n",
      "C:\\Users\\User\\Anaconda3\\lib\\site-packages\\sklearn\\linear_model\\logistic.py:1228: UserWarning: 'n_jobs' > 1 does not have any effect when 'solver' is set to 'liblinear'. Got 'n_jobs' = -1.\n",
      "  \" = {}.\".format(self.n_jobs))\n",
      "C:\\Users\\User\\Anaconda3\\lib\\site-packages\\sklearn\\linear_model\\logistic.py:1228: UserWarning: 'n_jobs' > 1 does not have any effect when 'solver' is set to 'liblinear'. Got 'n_jobs' = -1.\n",
      "  \" = {}.\".format(self.n_jobs))\n",
      "C:\\Users\\User\\Anaconda3\\lib\\site-packages\\sklearn\\linear_model\\logistic.py:1228: UserWarning: 'n_jobs' > 1 does not have any effect when 'solver' is set to 'liblinear'. Got 'n_jobs' = -1.\n",
      "  \" = {}.\".format(self.n_jobs))\n",
      "C:\\Users\\User\\Anaconda3\\lib\\site-packages\\sklearn\\linear_model\\logistic.py:1228: UserWarning: 'n_jobs' > 1 does not have any effect when 'solver' is set to 'liblinear'. Got 'n_jobs' = -1.\n",
      "  \" = {}.\".format(self.n_jobs))\n",
      "C:\\Users\\User\\Anaconda3\\lib\\site-packages\\sklearn\\linear_model\\logistic.py:1228: UserWarning: 'n_jobs' > 1 does not have any effect when 'solver' is set to 'liblinear'. Got 'n_jobs' = -1.\n",
      "  \" = {}.\".format(self.n_jobs))\n",
      "C:\\Users\\User\\Anaconda3\\lib\\site-packages\\sklearn\\linear_model\\logistic.py:1228: UserWarning: 'n_jobs' > 1 does not have any effect when 'solver' is set to 'liblinear'. Got 'n_jobs' = -1.\n",
      "  \" = {}.\".format(self.n_jobs))\n",
      "C:\\Users\\User\\Anaconda3\\lib\\site-packages\\sklearn\\linear_model\\logistic.py:1228: UserWarning: 'n_jobs' > 1 does not have any effect when 'solver' is set to 'liblinear'. Got 'n_jobs' = -1.\n",
      "  \" = {}.\".format(self.n_jobs))\n",
      "C:\\Users\\User\\Anaconda3\\lib\\site-packages\\sklearn\\linear_model\\logistic.py:1228: UserWarning: 'n_jobs' > 1 does not have any effect when 'solver' is set to 'liblinear'. Got 'n_jobs' = -1.\n",
      "  \" = {}.\".format(self.n_jobs))\n",
      "C:\\Users\\User\\Anaconda3\\lib\\site-packages\\sklearn\\linear_model\\logistic.py:1228: UserWarning: 'n_jobs' > 1 does not have any effect when 'solver' is set to 'liblinear'. Got 'n_jobs' = -1.\n",
      "  \" = {}.\".format(self.n_jobs))\n",
      "C:\\Users\\User\\Anaconda3\\lib\\site-packages\\sklearn\\linear_model\\logistic.py:1228: UserWarning: 'n_jobs' > 1 does not have any effect when 'solver' is set to 'liblinear'. Got 'n_jobs' = -1.\n",
      "  \" = {}.\".format(self.n_jobs))\n",
      "C:\\Users\\User\\Anaconda3\\lib\\site-packages\\sklearn\\linear_model\\logistic.py:1228: UserWarning: 'n_jobs' > 1 does not have any effect when 'solver' is set to 'liblinear'. Got 'n_jobs' = -1.\n",
      "  \" = {}.\".format(self.n_jobs))\n",
      "C:\\Users\\User\\Anaconda3\\lib\\site-packages\\sklearn\\linear_model\\logistic.py:1228: UserWarning: 'n_jobs' > 1 does not have any effect when 'solver' is set to 'liblinear'. Got 'n_jobs' = -1.\n",
      "  \" = {}.\".format(self.n_jobs))\n",
      "C:\\Users\\User\\Anaconda3\\lib\\site-packages\\sklearn\\linear_model\\logistic.py:1228: UserWarning: 'n_jobs' > 1 does not have any effect when 'solver' is set to 'liblinear'. Got 'n_jobs' = -1.\n",
      "  \" = {}.\".format(self.n_jobs))\n",
      "C:\\Users\\User\\Anaconda3\\lib\\site-packages\\sklearn\\linear_model\\logistic.py:1228: UserWarning: 'n_jobs' > 1 does not have any effect when 'solver' is set to 'liblinear'. Got 'n_jobs' = -1.\n",
      "  \" = {}.\".format(self.n_jobs))\n",
      "C:\\Users\\User\\Anaconda3\\lib\\site-packages\\sklearn\\linear_model\\logistic.py:1228: UserWarning: 'n_jobs' > 1 does not have any effect when 'solver' is set to 'liblinear'. Got 'n_jobs' = -1.\n",
      "  \" = {}.\".format(self.n_jobs))\n",
      "C:\\Users\\User\\Anaconda3\\lib\\site-packages\\sklearn\\linear_model\\logistic.py:1228: UserWarning: 'n_jobs' > 1 does not have any effect when 'solver' is set to 'liblinear'. Got 'n_jobs' = -1.\n",
      "  \" = {}.\".format(self.n_jobs))\n",
      "C:\\Users\\User\\Anaconda3\\lib\\site-packages\\sklearn\\linear_model\\logistic.py:1228: UserWarning: 'n_jobs' > 1 does not have any effect when 'solver' is set to 'liblinear'. Got 'n_jobs' = -1.\n",
      "  \" = {}.\".format(self.n_jobs))\n",
      "C:\\Users\\User\\Anaconda3\\lib\\site-packages\\sklearn\\linear_model\\logistic.py:1228: UserWarning: 'n_jobs' > 1 does not have any effect when 'solver' is set to 'liblinear'. Got 'n_jobs' = -1.\n",
      "  \" = {}.\".format(self.n_jobs))\n",
      "C:\\Users\\User\\Anaconda3\\lib\\site-packages\\sklearn\\linear_model\\logistic.py:1228: UserWarning: 'n_jobs' > 1 does not have any effect when 'solver' is set to 'liblinear'. Got 'n_jobs' = -1.\n",
      "  \" = {}.\".format(self.n_jobs))\n"
     ]
    },
    {
     "name": "stderr",
     "output_type": "stream",
     "text": [
      "C:\\Users\\User\\Anaconda3\\lib\\site-packages\\sklearn\\linear_model\\logistic.py:1228: UserWarning: 'n_jobs' > 1 does not have any effect when 'solver' is set to 'liblinear'. Got 'n_jobs' = -1.\n",
      "  \" = {}.\".format(self.n_jobs))\n",
      "C:\\Users\\User\\Anaconda3\\lib\\site-packages\\sklearn\\linear_model\\logistic.py:1228: UserWarning: 'n_jobs' > 1 does not have any effect when 'solver' is set to 'liblinear'. Got 'n_jobs' = -1.\n",
      "  \" = {}.\".format(self.n_jobs))\n",
      "C:\\Users\\User\\Anaconda3\\lib\\site-packages\\sklearn\\linear_model\\logistic.py:1228: UserWarning: 'n_jobs' > 1 does not have any effect when 'solver' is set to 'liblinear'. Got 'n_jobs' = -1.\n",
      "  \" = {}.\".format(self.n_jobs))\n",
      "C:\\Users\\User\\Anaconda3\\lib\\site-packages\\sklearn\\linear_model\\logistic.py:1228: UserWarning: 'n_jobs' > 1 does not have any effect when 'solver' is set to 'liblinear'. Got 'n_jobs' = -1.\n",
      "  \" = {}.\".format(self.n_jobs))\n",
      "C:\\Users\\User\\Anaconda3\\lib\\site-packages\\sklearn\\linear_model\\logistic.py:1228: UserWarning: 'n_jobs' > 1 does not have any effect when 'solver' is set to 'liblinear'. Got 'n_jobs' = -1.\n",
      "  \" = {}.\".format(self.n_jobs))\n",
      "C:\\Users\\User\\Anaconda3\\lib\\site-packages\\sklearn\\linear_model\\logistic.py:1228: UserWarning: 'n_jobs' > 1 does not have any effect when 'solver' is set to 'liblinear'. Got 'n_jobs' = -1.\n",
      "  \" = {}.\".format(self.n_jobs))\n",
      "C:\\Users\\User\\Anaconda3\\lib\\site-packages\\sklearn\\linear_model\\logistic.py:1228: UserWarning: 'n_jobs' > 1 does not have any effect when 'solver' is set to 'liblinear'. Got 'n_jobs' = -1.\n",
      "  \" = {}.\".format(self.n_jobs))\n",
      "C:\\Users\\User\\Anaconda3\\lib\\site-packages\\sklearn\\linear_model\\logistic.py:1228: UserWarning: 'n_jobs' > 1 does not have any effect when 'solver' is set to 'liblinear'. Got 'n_jobs' = -1.\n",
      "  \" = {}.\".format(self.n_jobs))\n",
      "C:\\Users\\User\\Anaconda3\\lib\\site-packages\\sklearn\\linear_model\\logistic.py:1228: UserWarning: 'n_jobs' > 1 does not have any effect when 'solver' is set to 'liblinear'. Got 'n_jobs' = -1.\n",
      "  \" = {}.\".format(self.n_jobs))\n",
      "C:\\Users\\User\\Anaconda3\\lib\\site-packages\\sklearn\\linear_model\\logistic.py:1228: UserWarning: 'n_jobs' > 1 does not have any effect when 'solver' is set to 'liblinear'. Got 'n_jobs' = -1.\n",
      "  \" = {}.\".format(self.n_jobs))\n",
      "C:\\Users\\User\\Anaconda3\\lib\\site-packages\\sklearn\\linear_model\\logistic.py:1228: UserWarning: 'n_jobs' > 1 does not have any effect when 'solver' is set to 'liblinear'. Got 'n_jobs' = -1.\n",
      "  \" = {}.\".format(self.n_jobs))\n",
      "C:\\Users\\User\\Anaconda3\\lib\\site-packages\\sklearn\\linear_model\\logistic.py:1228: UserWarning: 'n_jobs' > 1 does not have any effect when 'solver' is set to 'liblinear'. Got 'n_jobs' = -1.\n",
      "  \" = {}.\".format(self.n_jobs))\n",
      "C:\\Users\\User\\Anaconda3\\lib\\site-packages\\sklearn\\linear_model\\logistic.py:1228: UserWarning: 'n_jobs' > 1 does not have any effect when 'solver' is set to 'liblinear'. Got 'n_jobs' = -1.\n",
      "  \" = {}.\".format(self.n_jobs))\n",
      "C:\\Users\\User\\Anaconda3\\lib\\site-packages\\sklearn\\linear_model\\logistic.py:1228: UserWarning: 'n_jobs' > 1 does not have any effect when 'solver' is set to 'liblinear'. Got 'n_jobs' = -1.\n",
      "  \" = {}.\".format(self.n_jobs))\n",
      "C:\\Users\\User\\Anaconda3\\lib\\site-packages\\sklearn\\linear_model\\logistic.py:1228: UserWarning: 'n_jobs' > 1 does not have any effect when 'solver' is set to 'liblinear'. Got 'n_jobs' = -1.\n",
      "  \" = {}.\".format(self.n_jobs))\n",
      "C:\\Users\\User\\Anaconda3\\lib\\site-packages\\sklearn\\linear_model\\logistic.py:1228: UserWarning: 'n_jobs' > 1 does not have any effect when 'solver' is set to 'liblinear'. Got 'n_jobs' = -1.\n",
      "  \" = {}.\".format(self.n_jobs))\n",
      "C:\\Users\\User\\Anaconda3\\lib\\site-packages\\sklearn\\linear_model\\logistic.py:1228: UserWarning: 'n_jobs' > 1 does not have any effect when 'solver' is set to 'liblinear'. Got 'n_jobs' = -1.\n",
      "  \" = {}.\".format(self.n_jobs))\n"
     ]
    },
    {
     "name": "stdout",
     "output_type": "stream",
     "text": [
      "0.8414027919645897\n",
      "Best params: {'log_reg__C': 0.1, 'log_reg__penalty': 'l1'}\n",
      "Roc AUC score: 0.7673135852911134\n",
      "Confusion Matrix:\n",
      " [[129  36]\n",
      " [ 22  67]]\n",
      "Recall: 0.7528089887640449\n",
      "TNR: 0.7818181818181819\n",
      "Precision: 0.6504854368932039\n",
      "FPR: 0.21818181818181817\n",
      "Accuracy: 0.7716535433070866\n"
     ]
    },
    {
     "name": "stderr",
     "output_type": "stream",
     "text": [
      "C:\\Users\\User\\Anaconda3\\lib\\site-packages\\sklearn\\linear_model\\logistic.py:1228: UserWarning: 'n_jobs' > 1 does not have any effect when 'solver' is set to 'liblinear'. Got 'n_jobs' = -1.\n",
      "  \" = {}.\".format(self.n_jobs))\n",
      "C:\\Users\\User\\Anaconda3\\lib\\site-packages\\sklearn\\linear_model\\logistic.py:1228: UserWarning: 'n_jobs' > 1 does not have any effect when 'solver' is set to 'liblinear'. Got 'n_jobs' = -1.\n",
      "  \" = {}.\".format(self.n_jobs))\n",
      "C:\\Users\\User\\Anaconda3\\lib\\site-packages\\sklearn\\linear_model\\logistic.py:1228: UserWarning: 'n_jobs' > 1 does not have any effect when 'solver' is set to 'liblinear'. Got 'n_jobs' = -1.\n",
      "  \" = {}.\".format(self.n_jobs))\n",
      "C:\\Users\\User\\Anaconda3\\lib\\site-packages\\sklearn\\linear_model\\logistic.py:1228: UserWarning: 'n_jobs' > 1 does not have any effect when 'solver' is set to 'liblinear'. Got 'n_jobs' = -1.\n",
      "  \" = {}.\".format(self.n_jobs))\n",
      "C:\\Users\\User\\Anaconda3\\lib\\site-packages\\sklearn\\linear_model\\logistic.py:1228: UserWarning: 'n_jobs' > 1 does not have any effect when 'solver' is set to 'liblinear'. Got 'n_jobs' = -1.\n",
      "  \" = {}.\".format(self.n_jobs))\n"
     ]
    }
   ],
   "source": [
    "#Oversampling the minor class and undersampling the majorclass\n",
    "#Using Logistic Regression\n",
    "from imblearn.over_sampling import SMOTE\n",
    "from imblearn.pipeline import Pipeline\n",
    "from sklearn.model_selection import GridSearchCV, StratifiedKFold\n",
    "\n",
    "X_train, X_test, y_train, y_test = train_test_split(\n",
    "    X, y, test_size=0.33, random_state=444, stratify=y)\n",
    "\n",
    "#Feature Scaling\n",
    "sc = StandardScaler()\n",
    "X_train = sc.fit_transform(X_train)\n",
    "X_test = sc.transform(X_test)\n",
    "\n",
    "#Using pipeline to multiprocess the steps\n",
    "pipe = Pipeline([('oversample',SMOTE(random_state = 444)),\n",
    "                 ('log_reg',LogisticRegression(random_state = 444,n_jobs=-1))])\n",
    "\n",
    "skf = StratifiedKFold(n_splits = 10)\n",
    "param_grid = {'log_reg__C':[0.01,0.1,1,10,100],'log_reg__penalty':['l2','l1']}\n",
    "grid = GridSearchCV(pipe,param_grid,scoring = 'roc_auc',cv = skf)\n",
    "log = grid.fit(X_train,y_train)\n",
    "print(grid.score(X_test,y_test))\n",
    "\n",
    "print('Best params:', grid.best_params_)\n",
    "\n",
    "ypred_log2 = log.predict(X_test)\n",
    "cm = confusion_matrix(y_test,ypred_log2)\n",
    "TP = cm[1,1]\n",
    "TN = cm[0,0]\n",
    "FN = cm[1,0]\n",
    "FP = cm[0,1]\n",
    "\n",
    "print('Roc AUC score:',roc_auc_score(y_test,ypred_log2))\n",
    "print('Confusion Matrix:\\n',cm)\n",
    "print('Recall:',TP/(TP+FN))\n",
    "print('TNR:',TN/(TN+FP))\n",
    "print('Precision:',TP/(TP+FP))\n",
    "print('FPR:',FP/(FP+TN))\n",
    "print('Accuracy:',accuracy_score(y_test,ypred_log2))"
   ]
  },
  {
   "cell_type": "code",
   "execution_count": 40,
   "metadata": {},
   "outputs": [
    {
     "name": "stdout",
     "output_type": "stream",
     "text": [
      "0.8405856315968675\n",
      "Best params: {'lda__n_components': 1}\n",
      "Roc AUC score: 0.7625808648280558\n",
      "Confusion Matrix:\n",
      " [[133  32]\n",
      " [ 25  64]]\n",
      "Recall: 0.7191011235955056\n",
      "TNR: 0.806060606060606\n",
      "Precision: 0.6666666666666666\n",
      "FPR: 0.19393939393939394\n",
      "Accuracy: 0.7755905511811023\n"
     ]
    }
   ],
   "source": [
    "#Using Linear Discriminant Analysis\n",
    "X_train, X_test, y_train, y_test = train_test_split(\n",
    "    X, y, test_size=0.33, random_state=444, stratify=y)\n",
    "\n",
    "sc = StandardScaler()\n",
    "X_train = sc.fit_transform(X_train)\n",
    "X_test = sc.transform(X_test)\n",
    "\n",
    "pipe = Pipeline([('oversample',SMOTE(random_state = 444)),\n",
    "                 ('lda',LinearDiscriminantAnalysis())])\n",
    "\n",
    "skf = StratifiedKFold(n_splits = 10)\n",
    "param_grid = {'lda__n_components':[1]}\n",
    "grid = GridSearchCV(pipe,param_grid,scoring = 'roc_auc',cv = skf)\n",
    "log = grid.fit(X_train,y_train)\n",
    "print(grid.score(X_test,y_test))\n",
    "\n",
    "print('Best params:', grid.best_params_)\n",
    "\n",
    "ypred_lda = log.predict(X_test)\n",
    "cm = confusion_matrix(y_test,ypred_lda)\n",
    "TP = cm[1,1]\n",
    "TN = cm[0,0]\n",
    "FN = cm[1,0]\n",
    "FP = cm[0,1]\n",
    "\n",
    "print('Roc AUC score:',roc_auc_score(y_test,ypred_lda))\n",
    "print('Confusion Matrix:\\n',cm)\n",
    "print('Recall:',TP/(TP+FN))\n",
    "print('TNR:',TN/(TN+FP))\n",
    "print('Precision:',TP/(TP+FP))\n",
    "print('FPR:',FP/(FP+TN))\n",
    "print('Accuracy:',accuracy_score(y_test,ypred_lda))"
   ]
  },
  {
   "cell_type": "code",
   "execution_count": 41,
   "metadata": {},
   "outputs": [
    {
     "data": {
      "text/plain": [
       "array([0, 1, 0, 0, 0, 0, 1, 0, 0, 1], dtype=int64)"
      ]
     },
     "execution_count": 41,
     "metadata": {},
     "output_type": "execute_result"
    }
   ],
   "source": [
    "#As we see Logistic Regression yield better results, let's evaluate recall and plot roc curve using Logistic with SMOTE\n",
    "log.predict(X_test[0:10])"
   ]
  },
  {
   "cell_type": "code",
   "execution_count": 42,
   "metadata": {},
   "outputs": [
    {
     "data": {
      "text/plain": [
       "array([[0.6881682 , 0.3118318 ],\n",
       "       [0.15497378, 0.84502622],\n",
       "       [0.6487912 , 0.3512088 ],\n",
       "       [0.89851781, 0.10148219],\n",
       "       [0.87808271, 0.12191729],\n",
       "       [0.82641177, 0.17358823],\n",
       "       [0.21179064, 0.78820936],\n",
       "       [0.72867803, 0.27132197],\n",
       "       [0.62344115, 0.37655885],\n",
       "       [0.19146265, 0.80853735]])"
      ]
     },
     "execution_count": 42,
     "metadata": {},
     "output_type": "execute_result"
    }
   ],
   "source": [
    "log.predict_proba(X_test[0:10])"
   ]
  },
  {
   "cell_type": "code",
   "execution_count": 43,
   "metadata": {},
   "outputs": [
    {
     "data": {
      "text/plain": [
       "(array([36., 45., 27., 26., 25., 17., 15., 16., 25., 22.]),\n",
       " array([0.02117066, 0.1173524 , 0.21353414, 0.30971588, 0.40589762,\n",
       "        0.50207935, 0.59826109, 0.69444283, 0.79062457, 0.88680631,\n",
       "        0.98298805]),\n",
       " <a list of 10 Patch objects>)"
      ]
     },
     "execution_count": 43,
     "metadata": {},
     "output_type": "execute_result"
    },
    {
     "data": {
      "image/png": "[encoded data removed]",
      "text/plain": [
       "<Figure size 432x288 with 1 Axes>"
      ]
     },
     "metadata": {},
     "output_type": "display_data"
    }
   ],
   "source": [
    "y_pred_proba = log.predict_proba(X_test)[:,1]\n",
    "plt.hist(y_pred_proba,bins = 10)"
   ]
  },
  {
   "cell_type": "code",
   "execution_count": 44,
   "metadata": {},
   "outputs": [
    {
     "name": "stdout",
     "output_type": "stream",
     "text": [
      "[0 1 0 0 0 0 1 0 0 1]\n",
      "[ True  True  True False False False  True False  True  True]\n"
     ]
    }
   ],
   "source": [
    "#We are changing the threshold values to test by setting to 0.3\n",
    "y_pred_proba = log.predict_proba(X_test)[:,1] > 0.3\n",
    "print(log.predict(X_test[0:10]))\n",
    "print(y_pred_proba[0:10]) # the values above will 0.3 will be classified as positive"
   ]
  },
  {
   "cell_type": "code",
   "execution_count": 45,
   "metadata": {},
   "outputs": [
    {
     "data": {
      "text/plain": [
       "Text(0,0.5,'TPR')"
      ]
     },
     "execution_count": 45,
     "metadata": {},
     "output_type": "execute_result"
    },
    {
     "data": {
      "image/png": "[encoded data removed]",
      "text/plain": [
       "<Figure size 432x288 with 1 Axes>"
      ]
     },
     "metadata": {},
     "output_type": "display_data"
    }
   ],
   "source": [
    "from sklearn.metrics import roc_curve\n",
    "y_pred_prob1 = log.predict_proba(X_test)[:,1]\n",
    "fpr, tpr, thersholds = roc_curve(y_test,y_pred_prob1)\n",
    "plt.plot(fpr,tpr)\n",
    "plt.xlabel('FPR')\n",
    "plt.ylabel('TPR')"
   ]
  },
  {
   "cell_type": "code",
   "execution_count": 46,
   "metadata": {},
   "outputs": [
    {
     "name": "stdout",
     "output_type": "stream",
     "text": [
      "Roc score: 0.8405856315968675\n"
     ]
    }
   ],
   "source": [
    "print('Roc score:',roc_auc_score(y_test,y_pred_prob1))"
   ]
  },
  {
   "cell_type": "code",
   "execution_count": 47,
   "metadata": {},
   "outputs": [
    {
     "name": "stderr",
     "output_type": "stream",
     "text": [
      "C:\\Users\\User\\Anaconda3\\lib\\site-packages\\sklearn\\cross_validation.py:41: DeprecationWarning: This module was deprecated in version 0.18 in favor of the model_selection module into which all the refactored classes and functions are moved. Also note that the interface of the new CV iterators are different from that of this module. This module will be removed in 0.20.\n",
      "  \"This module will be removed in 0.20.\", DeprecationWarning)\n"
     ]
    },
    {
     "data": {
      "text/plain": [
       "0.8304763319469203"
      ]
     },
     "execution_count": 47,
     "metadata": {},
     "output_type": "execute_result"
    }
   ],
   "source": [
    "from sklearn.cross_validation import cross_val_score\n",
    "cross_val_score(log, X_train, y_train, cv=10, scoring='roc_auc').mean()"
   ]
  }
 ],
 "metadata": {
  "kernelspec": {
   "display_name": "Python 3",
   "language": "python",
   "name": "python3"
  },
  "language_info": {
   "codemirror_mode": {
    "name": "ipython",
    "version": 3
   },
   "file_extension": ".py",
   "mimetype": "text/x-python",
   "name": "python",
   "nbconvert_exporter": "python",
   "pygments_lexer": "ipython3",
   "version": "3.6.5"
  }
 },
 "nbformat": 4,
 "nbformat_minor": 2
}
